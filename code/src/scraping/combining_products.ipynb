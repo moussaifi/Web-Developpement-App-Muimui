{
 "cells": [
  {
   "cell_type": "code",
   "execution_count": 1,
   "metadata": {},
   "outputs": [],
   "source": [
    "import pandas as pd\n",
    "import numpy as np\n",
    "import re"
   ]
  },
  {
   "cell_type": "code",
   "execution_count": 46,
   "metadata": {},
   "outputs": [],
   "source": [
    "df_mango = pd.read_csv(\"data/mango.csv\")"
   ]
  },
  {
   "cell_type": "code",
   "execution_count": 47,
   "metadata": {},
   "outputs": [
    {
     "data": {
      "text/plain": [
       "Index(['web-scraper-order', 'web-scraper-start-url', 'page_link',\n",
       "       'page_link-href', 'product', 'product-href', 'name', 'price',\n",
       "       'description', 'image_url-src'],\n",
       "      dtype='object')"
      ]
     },
     "execution_count": 47,
     "metadata": {},
     "output_type": "execute_result"
    }
   ],
   "source": [
    "df_mango.columns"
   ]
  },
  {
   "cell_type": "code",
   "execution_count": 48,
   "metadata": {},
   "outputs": [
    {
     "data": {
      "text/html": [
       "<div>\n",
       "<style scoped>\n",
       "    .dataframe tbody tr th:only-of-type {\n",
       "        vertical-align: middle;\n",
       "    }\n",
       "\n",
       "    .dataframe tbody tr th {\n",
       "        vertical-align: top;\n",
       "    }\n",
       "\n",
       "    .dataframe thead th {\n",
       "        text-align: right;\n",
       "    }\n",
       "</style>\n",
       "<table border=\"1\" class=\"dataframe\">\n",
       "  <thead>\n",
       "    <tr style=\"text-align: right;\">\n",
       "      <th></th>\n",
       "      <th>web-scraper-order</th>\n",
       "      <th>web-scraper-start-url</th>\n",
       "      <th>page_link</th>\n",
       "      <th>page_link-href</th>\n",
       "      <th>product</th>\n",
       "      <th>product-href</th>\n",
       "      <th>name</th>\n",
       "      <th>price</th>\n",
       "      <th>description</th>\n",
       "      <th>image_url-src</th>\n",
       "    </tr>\n",
       "  </thead>\n",
       "  <tbody>\n",
       "    <tr>\n",
       "      <th>0</th>\n",
       "      <td>1554008449-3815</td>\n",
       "      <td>https://shop.mango.com/us/women</td>\n",
       "      <td>Rompers</td>\n",
       "      <td>https://shop.mango.com/redirect.faces?op=conta...</td>\n",
       "      <td>d\\n                      d\\n                  ...</td>\n",
       "      <td>https://shop.mango.com/us/women/jumpsuits-long...</td>\n",
       "      <td>Ruched long jumpsuit</td>\n",
       "      <td>$99.99</td>\n",
       "      <td>Description Long design. Short batwing sleeve....</td>\n",
       "      <td>//st.mngbcn.com/rcs/pics/static/T4/fotos/outfi...</td>\n",
       "    </tr>\n",
       "    <tr>\n",
       "      <th>1</th>\n",
       "      <td>1554007645-2795</td>\n",
       "      <td>https://shop.mango.com/us/women</td>\n",
       "      <td>T-shirts and tops</td>\n",
       "      <td>https://shop.mango.com/redirect.faces?op=conta...</td>\n",
       "      <td>d\\n                      d\\n                  ...</td>\n",
       "      <td>https://shop.mango.com/us/women/t-shirts-and-t...</td>\n",
       "      <td>Halter neck top</td>\n",
       "      <td>$39.99</td>\n",
       "      <td>Description Fine-knit fabric. Halterneck. Slee...</td>\n",
       "      <td>//st.mngbcn.com/rcs/pics/static/T4/fotos/outfi...</td>\n",
       "    </tr>\n",
       "    <tr>\n",
       "      <th>2</th>\n",
       "      <td>1554008118-3397</td>\n",
       "      <td>https://shop.mango.com/us/women</td>\n",
       "      <td>Cardigans and sweaters</td>\n",
       "      <td>https://shop.mango.com/redirect.faces?op=conta...</td>\n",
       "      <td>d\\n                      d\\n                  ...</td>\n",
       "      <td>https://shop.mango.com/us/women/cardigans-and-...</td>\n",
       "      <td>Ribbed neck sweater</td>\n",
       "      <td>$69.99</td>\n",
       "      <td>Description Funnel neck. Ribbed collar. Long s...</td>\n",
       "      <td>//st.mngbcn.com/rcs/pics/static/T4/fotos/S20/4...</td>\n",
       "    </tr>\n",
       "    <tr>\n",
       "      <th>3</th>\n",
       "      <td>1554008770-4248</td>\n",
       "      <td>https://shop.mango.com/us/women</td>\n",
       "      <td>Dresses</td>\n",
       "      <td>https://shop.mango.com/redirect.faces?op=conta...</td>\n",
       "      <td>d\\n                      d\\n                  ...</td>\n",
       "      <td>https://shop.mango.com/us/women/dresses-midi/v...</td>\n",
       "      <td>Vichy check dress</td>\n",
       "      <td>$99.99</td>\n",
       "      <td>Description Cotton fabric. Flared design. V-ne...</td>\n",
       "      <td>//st.mngbcn.com/rcs/pics/static/T4/fotos/S20/4...</td>\n",
       "    </tr>\n",
       "    <tr>\n",
       "      <th>4</th>\n",
       "      <td>1554009045-4629</td>\n",
       "      <td>https://shop.mango.com/us/women</td>\n",
       "      <td>Suits</td>\n",
       "      <td>https://shop.mango.com/redirect.faces?op=conta...</td>\n",
       "      <td>d\\n                      d\\n                  ...</td>\n",
       "      <td>https://shop.mango.com/us/women/jackets-blazer...</td>\n",
       "      <td>Essential structured blazer</td>\n",
       "      <td>$59.99</td>\n",
       "      <td>Description Structured design. Long design. La...</td>\n",
       "      <td>//st.mngbcn.com/rcs/pics/static/T4/fotos/S20/4...</td>\n",
       "    </tr>\n",
       "  </tbody>\n",
       "</table>\n",
       "</div>"
      ],
      "text/plain": [
       "  web-scraper-order            web-scraper-start-url               page_link  \\\n",
       "0   1554008449-3815  https://shop.mango.com/us/women                 Rompers   \n",
       "1   1554007645-2795  https://shop.mango.com/us/women       T-shirts and tops   \n",
       "2   1554008118-3397  https://shop.mango.com/us/women  Cardigans and sweaters   \n",
       "3   1554008770-4248  https://shop.mango.com/us/women                 Dresses   \n",
       "4   1554009045-4629  https://shop.mango.com/us/women                   Suits   \n",
       "\n",
       "                                      page_link-href  \\\n",
       "0  https://shop.mango.com/redirect.faces?op=conta...   \n",
       "1  https://shop.mango.com/redirect.faces?op=conta...   \n",
       "2  https://shop.mango.com/redirect.faces?op=conta...   \n",
       "3  https://shop.mango.com/redirect.faces?op=conta...   \n",
       "4  https://shop.mango.com/redirect.faces?op=conta...   \n",
       "\n",
       "                                             product  \\\n",
       "0  d\\n                      d\\n                  ...   \n",
       "1  d\\n                      d\\n                  ...   \n",
       "2  d\\n                      d\\n                  ...   \n",
       "3  d\\n                      d\\n                  ...   \n",
       "4  d\\n                      d\\n                  ...   \n",
       "\n",
       "                                        product-href  \\\n",
       "0  https://shop.mango.com/us/women/jumpsuits-long...   \n",
       "1  https://shop.mango.com/us/women/t-shirts-and-t...   \n",
       "2  https://shop.mango.com/us/women/cardigans-and-...   \n",
       "3  https://shop.mango.com/us/women/dresses-midi/v...   \n",
       "4  https://shop.mango.com/us/women/jackets-blazer...   \n",
       "\n",
       "                          name   price  \\\n",
       "0         Ruched long jumpsuit  $99.99   \n",
       "1              Halter neck top  $39.99   \n",
       "2          Ribbed neck sweater  $69.99   \n",
       "3            Vichy check dress  $99.99   \n",
       "4  Essential structured blazer  $59.99   \n",
       "\n",
       "                                         description  \\\n",
       "0  Description Long design. Short batwing sleeve....   \n",
       "1  Description Fine-knit fabric. Halterneck. Slee...   \n",
       "2  Description Funnel neck. Ribbed collar. Long s...   \n",
       "3  Description Cotton fabric. Flared design. V-ne...   \n",
       "4  Description Structured design. Long design. La...   \n",
       "\n",
       "                                       image_url-src  \n",
       "0  //st.mngbcn.com/rcs/pics/static/T4/fotos/outfi...  \n",
       "1  //st.mngbcn.com/rcs/pics/static/T4/fotos/outfi...  \n",
       "2  //st.mngbcn.com/rcs/pics/static/T4/fotos/S20/4...  \n",
       "3  //st.mngbcn.com/rcs/pics/static/T4/fotos/S20/4...  \n",
       "4  //st.mngbcn.com/rcs/pics/static/T4/fotos/S20/4...  "
      ]
     },
     "execution_count": 48,
     "metadata": {},
     "output_type": "execute_result"
    }
   ],
   "source": [
    "df_mango.head()"
   ]
  },
  {
   "cell_type": "code",
   "execution_count": 49,
   "metadata": {},
   "outputs": [],
   "source": [
    "df_mango = df_mango[['product-href', 'name', 'price', 'description', 'image_url-src']]"
   ]
  },
  {
   "cell_type": "code",
   "execution_count": 50,
   "metadata": {},
   "outputs": [],
   "source": [
    "df_mango[\"brand\"] = \"mango\""
   ]
  },
  {
   "cell_type": "code",
   "execution_count": 51,
   "metadata": {},
   "outputs": [],
   "source": [
    "df_mango.price = df_mango.price.apply(lambda x: float(x[1:]))"
   ]
  },
  {
   "cell_type": "code",
   "execution_count": 52,
   "metadata": {},
   "outputs": [
    {
     "data": {
      "text/html": [
       "<div>\n",
       "<style scoped>\n",
       "    .dataframe tbody tr th:only-of-type {\n",
       "        vertical-align: middle;\n",
       "    }\n",
       "\n",
       "    .dataframe tbody tr th {\n",
       "        vertical-align: top;\n",
       "    }\n",
       "\n",
       "    .dataframe thead th {\n",
       "        text-align: right;\n",
       "    }\n",
       "</style>\n",
       "<table border=\"1\" class=\"dataframe\">\n",
       "  <thead>\n",
       "    <tr style=\"text-align: right;\">\n",
       "      <th></th>\n",
       "      <th>product-href</th>\n",
       "      <th>name</th>\n",
       "      <th>price</th>\n",
       "      <th>description</th>\n",
       "      <th>image_url-src</th>\n",
       "      <th>brand</th>\n",
       "    </tr>\n",
       "  </thead>\n",
       "  <tbody>\n",
       "    <tr>\n",
       "      <th>0</th>\n",
       "      <td>https://shop.mango.com/us/women/jumpsuits-long...</td>\n",
       "      <td>Ruched long jumpsuit</td>\n",
       "      <td>99.99</td>\n",
       "      <td>Description Long design. Short batwing sleeve....</td>\n",
       "      <td>//st.mngbcn.com/rcs/pics/static/T4/fotos/outfi...</td>\n",
       "      <td>mango</td>\n",
       "    </tr>\n",
       "    <tr>\n",
       "      <th>1</th>\n",
       "      <td>https://shop.mango.com/us/women/t-shirts-and-t...</td>\n",
       "      <td>Halter neck top</td>\n",
       "      <td>39.99</td>\n",
       "      <td>Description Fine-knit fabric. Halterneck. Slee...</td>\n",
       "      <td>//st.mngbcn.com/rcs/pics/static/T4/fotos/outfi...</td>\n",
       "      <td>mango</td>\n",
       "    </tr>\n",
       "    <tr>\n",
       "      <th>2</th>\n",
       "      <td>https://shop.mango.com/us/women/cardigans-and-...</td>\n",
       "      <td>Ribbed neck sweater</td>\n",
       "      <td>69.99</td>\n",
       "      <td>Description Funnel neck. Ribbed collar. Long s...</td>\n",
       "      <td>//st.mngbcn.com/rcs/pics/static/T4/fotos/S20/4...</td>\n",
       "      <td>mango</td>\n",
       "    </tr>\n",
       "    <tr>\n",
       "      <th>3</th>\n",
       "      <td>https://shop.mango.com/us/women/dresses-midi/v...</td>\n",
       "      <td>Vichy check dress</td>\n",
       "      <td>99.99</td>\n",
       "      <td>Description Cotton fabric. Flared design. V-ne...</td>\n",
       "      <td>//st.mngbcn.com/rcs/pics/static/T4/fotos/S20/4...</td>\n",
       "      <td>mango</td>\n",
       "    </tr>\n",
       "    <tr>\n",
       "      <th>4</th>\n",
       "      <td>https://shop.mango.com/us/women/jackets-blazer...</td>\n",
       "      <td>Essential structured blazer</td>\n",
       "      <td>59.99</td>\n",
       "      <td>Description Structured design. Long design. La...</td>\n",
       "      <td>//st.mngbcn.com/rcs/pics/static/T4/fotos/S20/4...</td>\n",
       "      <td>mango</td>\n",
       "    </tr>\n",
       "  </tbody>\n",
       "</table>\n",
       "</div>"
      ],
      "text/plain": [
       "                                        product-href  \\\n",
       "0  https://shop.mango.com/us/women/jumpsuits-long...   \n",
       "1  https://shop.mango.com/us/women/t-shirts-and-t...   \n",
       "2  https://shop.mango.com/us/women/cardigans-and-...   \n",
       "3  https://shop.mango.com/us/women/dresses-midi/v...   \n",
       "4  https://shop.mango.com/us/women/jackets-blazer...   \n",
       "\n",
       "                          name  price  \\\n",
       "0         Ruched long jumpsuit  99.99   \n",
       "1              Halter neck top  39.99   \n",
       "2          Ribbed neck sweater  69.99   \n",
       "3            Vichy check dress  99.99   \n",
       "4  Essential structured blazer  59.99   \n",
       "\n",
       "                                         description  \\\n",
       "0  Description Long design. Short batwing sleeve....   \n",
       "1  Description Fine-knit fabric. Halterneck. Slee...   \n",
       "2  Description Funnel neck. Ribbed collar. Long s...   \n",
       "3  Description Cotton fabric. Flared design. V-ne...   \n",
       "4  Description Structured design. Long design. La...   \n",
       "\n",
       "                                       image_url-src  brand  \n",
       "0  //st.mngbcn.com/rcs/pics/static/T4/fotos/outfi...  mango  \n",
       "1  //st.mngbcn.com/rcs/pics/static/T4/fotos/outfi...  mango  \n",
       "2  //st.mngbcn.com/rcs/pics/static/T4/fotos/S20/4...  mango  \n",
       "3  //st.mngbcn.com/rcs/pics/static/T4/fotos/S20/4...  mango  \n",
       "4  //st.mngbcn.com/rcs/pics/static/T4/fotos/S20/4...  mango  "
      ]
     },
     "execution_count": 52,
     "metadata": {},
     "output_type": "execute_result"
    }
   ],
   "source": [
    "df_mango.head()"
   ]
  },
  {
   "cell_type": "code",
   "execution_count": 9,
   "metadata": {},
   "outputs": [],
   "source": [
    "df_macys = pd.read_csv(\"data/macys_data_combined.csv\", index_col=0)"
   ]
  },
  {
   "cell_type": "code",
   "execution_count": 10,
   "metadata": {},
   "outputs": [
    {
     "data": {
      "text/plain": [
       "Index(['prod_page_link', 'image_link', 'name', 'price', 'description', 'brand',\n",
       "       'rating'],\n",
       "      dtype='object')"
      ]
     },
     "execution_count": 10,
     "metadata": {},
     "output_type": "execute_result"
    }
   ],
   "source": [
    "df_macys.columns "
   ]
  },
  {
   "cell_type": "code",
   "execution_count": 11,
   "metadata": {},
   "outputs": [
    {
     "data": {
      "text/plain": [
       "Index(['prod_page_link', 'image_link', 'name', 'price', 'description',\n",
       "       'brand'],\n",
       "      dtype='object')"
      ]
     },
     "execution_count": 11,
     "metadata": {},
     "output_type": "execute_result"
    }
   ],
   "source": [
    "df_macys = df_macys.drop(\"rating\", axis=1)\n",
    "df_macys.columns"
   ]
  },
  {
   "cell_type": "code",
   "execution_count": 12,
   "metadata": {},
   "outputs": [
    {
     "data": {
      "text/html": [
       "<div>\n",
       "<style scoped>\n",
       "    .dataframe tbody tr th:only-of-type {\n",
       "        vertical-align: middle;\n",
       "    }\n",
       "\n",
       "    .dataframe tbody tr th {\n",
       "        vertical-align: top;\n",
       "    }\n",
       "\n",
       "    .dataframe thead th {\n",
       "        text-align: right;\n",
       "    }\n",
       "</style>\n",
       "<table border=\"1\" class=\"dataframe\">\n",
       "  <thead>\n",
       "    <tr style=\"text-align: right;\">\n",
       "      <th></th>\n",
       "      <th>page_link</th>\n",
       "      <th>image_link</th>\n",
       "      <th>name</th>\n",
       "      <th>price</th>\n",
       "      <th>description</th>\n",
       "      <th>brand</th>\n",
       "    </tr>\n",
       "  </thead>\n",
       "  <tbody>\n",
       "    <tr>\n",
       "      <th>0</th>\n",
       "      <td>https://www.macys.com//shop/product/jm-collect...</td>\n",
       "      <td>https://slimages.macysassets.com/is/image/MCY/...</td>\n",
       "      <td>Printed Scoop-Neck Top, Created for Macy's</td>\n",
       "      <td>34.5</td>\n",
       "      <td>Complete your casual wardrobe with this wear-e...</td>\n",
       "      <td>JM Collection</td>\n",
       "    </tr>\n",
       "    <tr>\n",
       "      <th>1</th>\n",
       "      <td>https://www.macys.com//shop/product/jm-collect...</td>\n",
       "      <td>https://slimages.macysassets.com/is/image/MCY/...</td>\n",
       "      <td>Printed Scoop-Neck Top, Created for Macy's</td>\n",
       "      <td>34.5</td>\n",
       "      <td>Complete your casual wardrobe with this wear-e...</td>\n",
       "      <td>JM Collection</td>\n",
       "    </tr>\n",
       "    <tr>\n",
       "      <th>2</th>\n",
       "      <td>https://www.macys.com//shop/product/jm-collect...</td>\n",
       "      <td>https://slimages.macysassets.com/is/image/MCY/...</td>\n",
       "      <td>3/4-Sleeve Novelty Printed Jacquard Top, Creat...</td>\n",
       "      <td>44.5</td>\n",
       "      <td>Slip into this essential JM Collection top any...</td>\n",
       "      <td>JM Collection</td>\n",
       "    </tr>\n",
       "    <tr>\n",
       "      <th>3</th>\n",
       "      <td>https://www.macys.com//shop/product/jm-collect...</td>\n",
       "      <td>https://slimages.macysassets.com/is/image/MCY/...</td>\n",
       "      <td>3/4-Sleeve Novelty Printed Jacquard Top, Creat...</td>\n",
       "      <td>44.5</td>\n",
       "      <td>Slip into this essential JM Collection top any...</td>\n",
       "      <td>JM Collection</td>\n",
       "    </tr>\n",
       "    <tr>\n",
       "      <th>4</th>\n",
       "      <td>https://www.macys.com//shop/product/jm-collect...</td>\n",
       "      <td>https://slimages.macysassets.com/is/image/MCY/...</td>\n",
       "      <td>Printed T-Shirt, Created for Macy's</td>\n",
       "      <td>34.5</td>\n",
       "      <td>A fashionable print lends an upgraded look and...</td>\n",
       "      <td>JM Collection</td>\n",
       "    </tr>\n",
       "  </tbody>\n",
       "</table>\n",
       "</div>"
      ],
      "text/plain": [
       "                                           page_link  \\\n",
       "0  https://www.macys.com//shop/product/jm-collect...   \n",
       "1  https://www.macys.com//shop/product/jm-collect...   \n",
       "2  https://www.macys.com//shop/product/jm-collect...   \n",
       "3  https://www.macys.com//shop/product/jm-collect...   \n",
       "4  https://www.macys.com//shop/product/jm-collect...   \n",
       "\n",
       "                                          image_link  \\\n",
       "0  https://slimages.macysassets.com/is/image/MCY/...   \n",
       "1  https://slimages.macysassets.com/is/image/MCY/...   \n",
       "2  https://slimages.macysassets.com/is/image/MCY/...   \n",
       "3  https://slimages.macysassets.com/is/image/MCY/...   \n",
       "4  https://slimages.macysassets.com/is/image/MCY/...   \n",
       "\n",
       "                                                name price  \\\n",
       "0         Printed Scoop-Neck Top, Created for Macy's  34.5   \n",
       "1         Printed Scoop-Neck Top, Created for Macy's  34.5   \n",
       "2  3/4-Sleeve Novelty Printed Jacquard Top, Creat...  44.5   \n",
       "3  3/4-Sleeve Novelty Printed Jacquard Top, Creat...  44.5   \n",
       "4                Printed T-Shirt, Created for Macy's  34.5   \n",
       "\n",
       "                                         description          brand  \n",
       "0  Complete your casual wardrobe with this wear-e...  JM Collection  \n",
       "1  Complete your casual wardrobe with this wear-e...  JM Collection  \n",
       "2  Slip into this essential JM Collection top any...  JM Collection  \n",
       "3  Slip into this essential JM Collection top any...  JM Collection  \n",
       "4  A fashionable print lends an upgraded look and...  JM Collection  "
      ]
     },
     "execution_count": 12,
     "metadata": {},
     "output_type": "execute_result"
    }
   ],
   "source": [
    "df_macys.columns = ['page_link', 'image_link', 'name', 'price', 'description', 'brand']\n",
    "df_macys.head()"
   ]
  },
  {
   "cell_type": "code",
   "execution_count": 53,
   "metadata": {},
   "outputs": [],
   "source": [
    "df_mango = df_mango[['product-href', 'image_url-src', 'name', 'price', 'description', 'brand']]"
   ]
  },
  {
   "cell_type": "code",
   "execution_count": 54,
   "metadata": {},
   "outputs": [],
   "source": [
    "df_mango.columns = ['page_link', 'image_link', 'name', 'price', 'description', 'brand']"
   ]
  },
  {
   "cell_type": "code",
   "execution_count": 55,
   "metadata": {},
   "outputs": [],
   "source": [
    "df_mango.image_link = df_mango.image_link.apply(lambda x: x[2:])"
   ]
  },
  {
   "cell_type": "code",
   "execution_count": 56,
   "metadata": {},
   "outputs": [
    {
     "data": {
      "text/html": [
       "<div>\n",
       "<style scoped>\n",
       "    .dataframe tbody tr th:only-of-type {\n",
       "        vertical-align: middle;\n",
       "    }\n",
       "\n",
       "    .dataframe tbody tr th {\n",
       "        vertical-align: top;\n",
       "    }\n",
       "\n",
       "    .dataframe thead th {\n",
       "        text-align: right;\n",
       "    }\n",
       "</style>\n",
       "<table border=\"1\" class=\"dataframe\">\n",
       "  <thead>\n",
       "    <tr style=\"text-align: right;\">\n",
       "      <th></th>\n",
       "      <th>page_link</th>\n",
       "      <th>image_link</th>\n",
       "      <th>name</th>\n",
       "      <th>price</th>\n",
       "      <th>description</th>\n",
       "      <th>brand</th>\n",
       "    </tr>\n",
       "  </thead>\n",
       "  <tbody>\n",
       "    <tr>\n",
       "      <th>0</th>\n",
       "      <td>https://shop.mango.com/us/women/jumpsuits-long...</td>\n",
       "      <td>st.mngbcn.com/rcs/pics/static/T4/fotos/outfit/...</td>\n",
       "      <td>Ruched long jumpsuit</td>\n",
       "      <td>99.99</td>\n",
       "      <td>Description Long design. Short batwing sleeve....</td>\n",
       "      <td>mango</td>\n",
       "    </tr>\n",
       "    <tr>\n",
       "      <th>1</th>\n",
       "      <td>https://shop.mango.com/us/women/t-shirts-and-t...</td>\n",
       "      <td>st.mngbcn.com/rcs/pics/static/T4/fotos/outfit/...</td>\n",
       "      <td>Halter neck top</td>\n",
       "      <td>39.99</td>\n",
       "      <td>Description Fine-knit fabric. Halterneck. Slee...</td>\n",
       "      <td>mango</td>\n",
       "    </tr>\n",
       "    <tr>\n",
       "      <th>2</th>\n",
       "      <td>https://shop.mango.com/us/women/cardigans-and-...</td>\n",
       "      <td>st.mngbcn.com/rcs/pics/static/T4/fotos/S20/430...</td>\n",
       "      <td>Ribbed neck sweater</td>\n",
       "      <td>69.99</td>\n",
       "      <td>Description Funnel neck. Ribbed collar. Long s...</td>\n",
       "      <td>mango</td>\n",
       "    </tr>\n",
       "    <tr>\n",
       "      <th>3</th>\n",
       "      <td>https://shop.mango.com/us/women/dresses-midi/v...</td>\n",
       "      <td>st.mngbcn.com/rcs/pics/static/T4/fotos/S20/430...</td>\n",
       "      <td>Vichy check dress</td>\n",
       "      <td>99.99</td>\n",
       "      <td>Description Cotton fabric. Flared design. V-ne...</td>\n",
       "      <td>mango</td>\n",
       "    </tr>\n",
       "    <tr>\n",
       "      <th>4</th>\n",
       "      <td>https://shop.mango.com/us/women/jackets-blazer...</td>\n",
       "      <td>st.mngbcn.com/rcs/pics/static/T4/fotos/S20/410...</td>\n",
       "      <td>Essential structured blazer</td>\n",
       "      <td>59.99</td>\n",
       "      <td>Description Structured design. Long design. La...</td>\n",
       "      <td>mango</td>\n",
       "    </tr>\n",
       "  </tbody>\n",
       "</table>\n",
       "</div>"
      ],
      "text/plain": [
       "                                           page_link  \\\n",
       "0  https://shop.mango.com/us/women/jumpsuits-long...   \n",
       "1  https://shop.mango.com/us/women/t-shirts-and-t...   \n",
       "2  https://shop.mango.com/us/women/cardigans-and-...   \n",
       "3  https://shop.mango.com/us/women/dresses-midi/v...   \n",
       "4  https://shop.mango.com/us/women/jackets-blazer...   \n",
       "\n",
       "                                          image_link  \\\n",
       "0  st.mngbcn.com/rcs/pics/static/T4/fotos/outfit/...   \n",
       "1  st.mngbcn.com/rcs/pics/static/T4/fotos/outfit/...   \n",
       "2  st.mngbcn.com/rcs/pics/static/T4/fotos/S20/430...   \n",
       "3  st.mngbcn.com/rcs/pics/static/T4/fotos/S20/430...   \n",
       "4  st.mngbcn.com/rcs/pics/static/T4/fotos/S20/410...   \n",
       "\n",
       "                          name  price  \\\n",
       "0         Ruched long jumpsuit  99.99   \n",
       "1              Halter neck top  39.99   \n",
       "2          Ribbed neck sweater  69.99   \n",
       "3            Vichy check dress  99.99   \n",
       "4  Essential structured blazer  59.99   \n",
       "\n",
       "                                         description  brand  \n",
       "0  Description Long design. Short batwing sleeve....  mango  \n",
       "1  Description Fine-knit fabric. Halterneck. Slee...  mango  \n",
       "2  Description Funnel neck. Ribbed collar. Long s...  mango  \n",
       "3  Description Cotton fabric. Flared design. V-ne...  mango  \n",
       "4  Description Structured design. Long design. La...  mango  "
      ]
     },
     "execution_count": 56,
     "metadata": {},
     "output_type": "execute_result"
    }
   ],
   "source": [
    "df_mango.head()"
   ]
  },
  {
   "cell_type": "code",
   "execution_count": 16,
   "metadata": {},
   "outputs": [
    {
     "data": {
      "text/plain": [
       "(17783, 6)"
      ]
     },
     "execution_count": 16,
     "metadata": {},
     "output_type": "execute_result"
    }
   ],
   "source": [
    "df_macys.shape"
   ]
  },
  {
   "cell_type": "code",
   "execution_count": 17,
   "metadata": {},
   "outputs": [
    {
     "data": {
      "text/plain": [
       "(3858, 6)"
      ]
     },
     "execution_count": 17,
     "metadata": {},
     "output_type": "execute_result"
    }
   ],
   "source": [
    "df_mango.shape"
   ]
  },
  {
   "cell_type": "code",
   "execution_count": 18,
   "metadata": {},
   "outputs": [],
   "source": [
    "df_hm = pd.read_csv(\"data/HM.csv\")"
   ]
  },
  {
   "cell_type": "code",
   "execution_count": 19,
   "metadata": {},
   "outputs": [
    {
     "data": {
      "text/html": [
       "<div>\n",
       "<style scoped>\n",
       "    .dataframe tbody tr th:only-of-type {\n",
       "        vertical-align: middle;\n",
       "    }\n",
       "\n",
       "    .dataframe tbody tr th {\n",
       "        vertical-align: top;\n",
       "    }\n",
       "\n",
       "    .dataframe thead th {\n",
       "        text-align: right;\n",
       "    }\n",
       "</style>\n",
       "<table border=\"1\" class=\"dataframe\">\n",
       "  <thead>\n",
       "    <tr style=\"text-align: right;\">\n",
       "      <th></th>\n",
       "      <th>page_link</th>\n",
       "      <th>image_link</th>\n",
       "      <th>name</th>\n",
       "      <th>price</th>\n",
       "      <th>description</th>\n",
       "      <th>brand</th>\n",
       "    </tr>\n",
       "  </thead>\n",
       "  <tbody>\n",
       "    <tr>\n",
       "      <th>0</th>\n",
       "      <td>https://www2.hm.com/en_us/productpage.06364550...</td>\n",
       "      <td>http://lp2.hm.com/hmgoepprod?set=source[/07/25...</td>\n",
       "      <td>Straight-cut Jacket</td>\n",
       "      <td>34.99</td>\n",
       "      <td>Straight-cut jacket in woven fabric with notch...</td>\n",
       "      <td>H&amp;M</td>\n",
       "    </tr>\n",
       "    <tr>\n",
       "      <th>1</th>\n",
       "      <td>https://www2.hm.com/en_us/productpage.07554510...</td>\n",
       "      <td>http://lp2.hm.com/hmgoepprod?set=source[/27/f3...</td>\n",
       "      <td>Linen-blend Jacket</td>\n",
       "      <td>59.99</td>\n",
       "      <td>Gently fitted jacket in soft, woven fabric mad...</td>\n",
       "      <td>H&amp;M</td>\n",
       "    </tr>\n",
       "    <tr>\n",
       "      <th>2</th>\n",
       "      <td>https://www2.hm.com/en_us/productpage.07178790...</td>\n",
       "      <td>http://lp2.hm.com/hmgoepprod?set=source[/2c/3d...</td>\n",
       "      <td>Double-breasted Jacket</td>\n",
       "      <td>34.99</td>\n",
       "      <td>Longer, double-breasted jacket in woven fabric...</td>\n",
       "      <td>H&amp;M</td>\n",
       "    </tr>\n",
       "    <tr>\n",
       "      <th>3</th>\n",
       "      <td>https://www2.hm.com/en_us/productpage.07246260...</td>\n",
       "      <td>http://lp2.hm.com/hmgoepprod?set=source[/89/66...</td>\n",
       "      <td>Linen-blend Jacket</td>\n",
       "      <td>49.99</td>\n",
       "      <td>Gently fitted jacket in a linen and viscose bl...</td>\n",
       "      <td>H&amp;M</td>\n",
       "    </tr>\n",
       "    <tr>\n",
       "      <th>4</th>\n",
       "      <td>https://www2.hm.com/en_us/productpage.05686010...</td>\n",
       "      <td>http://lp2.hm.com/hmgoepprod?set=source[/c0/a1...</td>\n",
       "      <td>Fitted Blazer</td>\n",
       "      <td>34.99</td>\n",
       "      <td>Fitted blazer in woven fabric with notched lap...</td>\n",
       "      <td>H&amp;M</td>\n",
       "    </tr>\n",
       "  </tbody>\n",
       "</table>\n",
       "</div>"
      ],
      "text/plain": [
       "                                           page_link  \\\n",
       "0  https://www2.hm.com/en_us/productpage.06364550...   \n",
       "1  https://www2.hm.com/en_us/productpage.07554510...   \n",
       "2  https://www2.hm.com/en_us/productpage.07178790...   \n",
       "3  https://www2.hm.com/en_us/productpage.07246260...   \n",
       "4  https://www2.hm.com/en_us/productpage.05686010...   \n",
       "\n",
       "                                          image_link                    name  \\\n",
       "0  http://lp2.hm.com/hmgoepprod?set=source[/07/25...     Straight-cut Jacket   \n",
       "1  http://lp2.hm.com/hmgoepprod?set=source[/27/f3...      Linen-blend Jacket   \n",
       "2  http://lp2.hm.com/hmgoepprod?set=source[/2c/3d...  Double-breasted Jacket   \n",
       "3  http://lp2.hm.com/hmgoepprod?set=source[/89/66...      Linen-blend Jacket   \n",
       "4  http://lp2.hm.com/hmgoepprod?set=source[/c0/a1...           Fitted Blazer   \n",
       "\n",
       "   price                                        description brand  \n",
       "0  34.99  Straight-cut jacket in woven fabric with notch...   H&M  \n",
       "1  59.99  Gently fitted jacket in soft, woven fabric mad...   H&M  \n",
       "2  34.99  Longer, double-breasted jacket in woven fabric...   H&M  \n",
       "3  49.99  Gently fitted jacket in a linen and viscose bl...   H&M  \n",
       "4  34.99  Fitted blazer in woven fabric with notched lap...   H&M  "
      ]
     },
     "execution_count": 19,
     "metadata": {},
     "output_type": "execute_result"
    }
   ],
   "source": [
    "df_hm.columns = ['page_link', 'image_link', 'name', 'price', 'description', 'brand']\n",
    "df_hm.head()"
   ]
  },
  {
   "cell_type": "code",
   "execution_count": 20,
   "metadata": {},
   "outputs": [],
   "source": [
    "df_ts = pd.read_csv(\"data/topshopwithdesc.csv\")"
   ]
  },
  {
   "cell_type": "code",
   "execution_count": 21,
   "metadata": {},
   "outputs": [
    {
     "data": {
      "text/plain": [
       "Index(['link', 'product_name', 'price', 'image_link', 'brand', 'desc'], dtype='object')"
      ]
     },
     "execution_count": 21,
     "metadata": {},
     "output_type": "execute_result"
    }
   ],
   "source": [
    "df_ts.columns"
   ]
  },
  {
   "cell_type": "code",
   "execution_count": 22,
   "metadata": {},
   "outputs": [],
   "source": [
    "df_ts = df_ts[['link', 'image_link', 'product_name', 'price', 'desc', 'brand']]"
   ]
  },
  {
   "cell_type": "code",
   "execution_count": 23,
   "metadata": {},
   "outputs": [],
   "source": [
    "df_ts.columns = ['page_link', 'image_link', 'name', 'price', 'description', 'brand']"
   ]
  },
  {
   "cell_type": "code",
   "execution_count": 24,
   "metadata": {
    "scrolled": true
   },
   "outputs": [
    {
     "data": {
      "text/html": [
       "<div>\n",
       "<style scoped>\n",
       "    .dataframe tbody tr th:only-of-type {\n",
       "        vertical-align: middle;\n",
       "    }\n",
       "\n",
       "    .dataframe tbody tr th {\n",
       "        vertical-align: top;\n",
       "    }\n",
       "\n",
       "    .dataframe thead th {\n",
       "        text-align: right;\n",
       "    }\n",
       "</style>\n",
       "<table border=\"1\" class=\"dataframe\">\n",
       "  <thead>\n",
       "    <tr style=\"text-align: right;\">\n",
       "      <th></th>\n",
       "      <th>page_link</th>\n",
       "      <th>image_link</th>\n",
       "      <th>name</th>\n",
       "      <th>price</th>\n",
       "      <th>description</th>\n",
       "      <th>brand</th>\n",
       "    </tr>\n",
       "  </thead>\n",
       "  <tbody>\n",
       "    <tr>\n",
       "      <th>0</th>\n",
       "      <td>http://us.topshop.com/en/tsus/product/clothing...</td>\n",
       "      <td>https://images.topshop.com/i/TopShop/TS16R06QC...</td>\n",
       "      <td>Check Peg Trousers</td>\n",
       "      <td>68.00</td>\n",
       "      <td>Tap into the patterned look with these all ove...</td>\n",
       "      <td>TopShop</td>\n",
       "    </tr>\n",
       "    <tr>\n",
       "      <th>1</th>\n",
       "      <td>http://us.topshop.com/en/tsus/product/clothing...</td>\n",
       "      <td>https://images.topshop.com/i/TopShop/TS13R14QR...</td>\n",
       "      <td>Scarf Hanky Top</td>\n",
       "      <td>48.00</td>\n",
       "      <td>This scarf printed hanky top in red embraces u...</td>\n",
       "      <td>TopShop</td>\n",
       "    </tr>\n",
       "    <tr>\n",
       "      <th>2</th>\n",
       "      <td>http://us.topshop.com/en/tsus/product/clothing...</td>\n",
       "      <td>https://images.topshop.com/i/TopShop/TS05P81PW...</td>\n",
       "      <td>Clip Buckle Pinafore</td>\n",
       "      <td>68.00</td>\n",
       "      <td>This clip buckle denim pinafore is a modern mu...</td>\n",
       "      <td>TopShop</td>\n",
       "    </tr>\n",
       "    <tr>\n",
       "      <th>3</th>\n",
       "      <td>http://us.topshop.com/en/tsus/product/clothing...</td>\n",
       "      <td>https://images.topshop.com/i/TopShop/TS02G25QM...</td>\n",
       "      <td>Mid Blue Laddered Hem Straight Jeans</td>\n",
       "      <td>80.00</td>\n",
       "      <td>These high rise, straight leg jeans in authent...</td>\n",
       "      <td>TopShop</td>\n",
       "    </tr>\n",
       "    <tr>\n",
       "      <th>4</th>\n",
       "      <td>http://us.topshop.com/en/tsus/product/clothing...</td>\n",
       "      <td>https://images.topshop.com/i/TopShop/TS13A22QY...</td>\n",
       "      <td>Giraffe Cami</td>\n",
       "      <td>35.00</td>\n",
       "      <td>This all over giraffe camisole top does animal...</td>\n",
       "      <td>TopShop</td>\n",
       "    </tr>\n",
       "  </tbody>\n",
       "</table>\n",
       "</div>"
      ],
      "text/plain": [
       "                                           page_link  \\\n",
       "0  http://us.topshop.com/en/tsus/product/clothing...   \n",
       "1  http://us.topshop.com/en/tsus/product/clothing...   \n",
       "2  http://us.topshop.com/en/tsus/product/clothing...   \n",
       "3  http://us.topshop.com/en/tsus/product/clothing...   \n",
       "4  http://us.topshop.com/en/tsus/product/clothing...   \n",
       "\n",
       "                                          image_link  \\\n",
       "0  https://images.topshop.com/i/TopShop/TS16R06QC...   \n",
       "1  https://images.topshop.com/i/TopShop/TS13R14QR...   \n",
       "2  https://images.topshop.com/i/TopShop/TS05P81PW...   \n",
       "3  https://images.topshop.com/i/TopShop/TS02G25QM...   \n",
       "4  https://images.topshop.com/i/TopShop/TS13A22QY...   \n",
       "\n",
       "                                   name  price  \\\n",
       "0                    Check Peg Trousers  68.00   \n",
       "1                       Scarf Hanky Top  48.00   \n",
       "2                  Clip Buckle Pinafore  68.00   \n",
       "3  Mid Blue Laddered Hem Straight Jeans  80.00   \n",
       "4                          Giraffe Cami  35.00   \n",
       "\n",
       "                                         description    brand  \n",
       "0  Tap into the patterned look with these all ove...  TopShop  \n",
       "1  This scarf printed hanky top in red embraces u...  TopShop  \n",
       "2  This clip buckle denim pinafore is a modern mu...  TopShop  \n",
       "3  These high rise, straight leg jeans in authent...  TopShop  \n",
       "4  This all over giraffe camisole top does animal...  TopShop  "
      ]
     },
     "execution_count": 24,
     "metadata": {},
     "output_type": "execute_result"
    }
   ],
   "source": [
    "df_ts.head()"
   ]
  },
  {
   "cell_type": "code",
   "execution_count": 25,
   "metadata": {},
   "outputs": [
    {
     "data": {
      "text/plain": [
       "page_link      object\n",
       "image_link     object\n",
       "name           object\n",
       "price          object\n",
       "description    object\n",
       "brand          object\n",
       "dtype: object"
      ]
     },
     "execution_count": 25,
     "metadata": {},
     "output_type": "execute_result"
    }
   ],
   "source": [
    "df_ts.dtypes"
   ]
  },
  {
   "cell_type": "code",
   "execution_count": 26,
   "metadata": {
    "scrolled": true
   },
   "outputs": [],
   "source": [
    "df_ts = df_ts[~df_ts.price.isna()]"
   ]
  },
  {
   "cell_type": "code",
   "execution_count": 27,
   "metadata": {},
   "outputs": [],
   "source": [
    "def string2float(x):\n",
    "    return float(re.sub(r'[^\\d.]+', '', x))\n",
    "df_ts.price = df_ts.price.apply(string2float)\n",
    "df_macys.price = df_macys.price.apply(string2float)"
   ]
  },
  {
   "cell_type": "code",
   "execution_count": 30,
   "metadata": {},
   "outputs": [],
   "source": [
    "df_br = pd.read_csv(\"data/banana_republic.csv\")"
   ]
  },
  {
   "cell_type": "code",
   "execution_count": 31,
   "metadata": {},
   "outputs": [
    {
     "data": {
      "text/plain": [
       "Unnamed: 0        int64\n",
       "image_link       object\n",
       "product_name     object\n",
       "link             object\n",
       "price           float64\n",
       "description      object\n",
       "domain           object\n",
       "dtype: object"
      ]
     },
     "execution_count": 31,
     "metadata": {},
     "output_type": "execute_result"
    }
   ],
   "source": [
    "df_br.dtypes"
   ]
  },
  {
   "cell_type": "code",
   "execution_count": 32,
   "metadata": {},
   "outputs": [],
   "source": [
    "df_br = df_br.drop(\"Unnamed: 0\", axis=1)"
   ]
  },
  {
   "cell_type": "code",
   "execution_count": 34,
   "metadata": {},
   "outputs": [
    {
     "data": {
      "text/plain": [
       "Index(['image_link', 'product_name', 'link', 'price', 'description', 'domain'], dtype='object')"
      ]
     },
     "execution_count": 34,
     "metadata": {},
     "output_type": "execute_result"
    }
   ],
   "source": [
    "df_br.columns"
   ]
  },
  {
   "cell_type": "code",
   "execution_count": 35,
   "metadata": {},
   "outputs": [],
   "source": [
    "df_br = df_br[['link', 'image_link', 'product_name',  'price', 'description', 'domain']]"
   ]
  },
  {
   "cell_type": "code",
   "execution_count": 36,
   "metadata": {},
   "outputs": [],
   "source": [
    "df_br.columns = ['page_link', 'image_link', 'name', 'price', 'description', 'brand']"
   ]
  },
  {
   "cell_type": "code",
   "execution_count": 37,
   "metadata": {
    "scrolled": true
   },
   "outputs": [
    {
     "data": {
      "text/html": [
       "<div>\n",
       "<style scoped>\n",
       "    .dataframe tbody tr th:only-of-type {\n",
       "        vertical-align: middle;\n",
       "    }\n",
       "\n",
       "    .dataframe tbody tr th {\n",
       "        vertical-align: top;\n",
       "    }\n",
       "\n",
       "    .dataframe thead th {\n",
       "        text-align: right;\n",
       "    }\n",
       "</style>\n",
       "<table border=\"1\" class=\"dataframe\">\n",
       "  <thead>\n",
       "    <tr style=\"text-align: right;\">\n",
       "      <th></th>\n",
       "      <th>page_link</th>\n",
       "      <th>image_link</th>\n",
       "      <th>name</th>\n",
       "      <th>price</th>\n",
       "      <th>description</th>\n",
       "      <th>brand</th>\n",
       "    </tr>\n",
       "  </thead>\n",
       "  <tbody>\n",
       "    <tr>\n",
       "      <th>0</th>\n",
       "      <td>https://bananarepublic.gap.com//browse/product...</td>\n",
       "      <td>https://www3.assets-gap.com/webcontent/0016/73...</td>\n",
       "      <td>Chevron Pleated Midi Dress</td>\n",
       "      <td>149.0</td>\n",
       "      <td>A flattering fit-and-flare style with oh-so-no...</td>\n",
       "      <td>Banana Republic</td>\n",
       "    </tr>\n",
       "    <tr>\n",
       "      <th>1</th>\n",
       "      <td>https://bananarepublic.gap.com//browse/product...</td>\n",
       "      <td>https://www1.assets-gap.com/webcontent/0016/78...</td>\n",
       "      <td>Eyelet Pinafore Dress</td>\n",
       "      <td>159.0</td>\n",
       "      <td>Inspired by the romance of the prairie, this m...</td>\n",
       "      <td>Banana Republic</td>\n",
       "    </tr>\n",
       "    <tr>\n",
       "      <th>2</th>\n",
       "      <td>https://bananarepublic.gap.com//browse/product...</td>\n",
       "      <td>https://www2.assets-gap.com/webcontent/0016/64...</td>\n",
       "      <td>Paneled Fit-and-Flare Dress</td>\n",
       "      <td>119.0</td>\n",
       "      <td>Expert tailoring and a flirty, A-line skirt ma...</td>\n",
       "      <td>Banana Republic</td>\n",
       "    </tr>\n",
       "    <tr>\n",
       "      <th>3</th>\n",
       "      <td>https://bananarepublic.gap.com//browse/product...</td>\n",
       "      <td>https://www3.assets-gap.com/webcontent/0016/75...</td>\n",
       "      <td>Floral Drop-Waist Shift Dress</td>\n",
       "      <td>129.0</td>\n",
       "      <td>A classic shift dress in a modern, floral prin...</td>\n",
       "      <td>Banana Republic</td>\n",
       "    </tr>\n",
       "    <tr>\n",
       "      <th>4</th>\n",
       "      <td>https://bananarepublic.gap.com//browse/product...</td>\n",
       "      <td>https://www1.assets-gap.com/webcontent/0016/74...</td>\n",
       "      <td>Plaid Bi-Stretch Racer-Neck Sheath Dress</td>\n",
       "      <td>129.0</td>\n",
       "      <td>Expert tailoring and a racer neck give this bo...</td>\n",
       "      <td>Banana Republic</td>\n",
       "    </tr>\n",
       "  </tbody>\n",
       "</table>\n",
       "</div>"
      ],
      "text/plain": [
       "                                           page_link  \\\n",
       "0  https://bananarepublic.gap.com//browse/product...   \n",
       "1  https://bananarepublic.gap.com//browse/product...   \n",
       "2  https://bananarepublic.gap.com//browse/product...   \n",
       "3  https://bananarepublic.gap.com//browse/product...   \n",
       "4  https://bananarepublic.gap.com//browse/product...   \n",
       "\n",
       "                                          image_link  \\\n",
       "0  https://www3.assets-gap.com/webcontent/0016/73...   \n",
       "1  https://www1.assets-gap.com/webcontent/0016/78...   \n",
       "2  https://www2.assets-gap.com/webcontent/0016/64...   \n",
       "3  https://www3.assets-gap.com/webcontent/0016/75...   \n",
       "4  https://www1.assets-gap.com/webcontent/0016/74...   \n",
       "\n",
       "                                       name  price  \\\n",
       "0                Chevron Pleated Midi Dress  149.0   \n",
       "1                     Eyelet Pinafore Dress  159.0   \n",
       "2               Paneled Fit-and-Flare Dress  119.0   \n",
       "3             Floral Drop-Waist Shift Dress  129.0   \n",
       "4  Plaid Bi-Stretch Racer-Neck Sheath Dress  129.0   \n",
       "\n",
       "                                         description            brand  \n",
       "0  A flattering fit-and-flare style with oh-so-no...  Banana Republic  \n",
       "1  Inspired by the romance of the prairie, this m...  Banana Republic  \n",
       "2  Expert tailoring and a flirty, A-line skirt ma...  Banana Republic  \n",
       "3  A classic shift dress in a modern, floral prin...  Banana Republic  \n",
       "4  Expert tailoring and a racer neck give this bo...  Banana Republic  "
      ]
     },
     "execution_count": 37,
     "metadata": {},
     "output_type": "execute_result"
    }
   ],
   "source": [
    "df_br.head()"
   ]
  },
  {
   "cell_type": "code",
   "execution_count": 61,
   "metadata": {},
   "outputs": [],
   "source": [
    "frames = [df_macys, df_mango, df_hm, df_ts, df_br]"
   ]
  },
  {
   "cell_type": "code",
   "execution_count": 62,
   "metadata": {},
   "outputs": [],
   "source": [
    "df = pd.concat(frames)"
   ]
  },
  {
   "cell_type": "code",
   "execution_count": 63,
   "metadata": {},
   "outputs": [
    {
     "data": {
      "text/plain": [
       "(30370, 6)"
      ]
     },
     "execution_count": 63,
     "metadata": {},
     "output_type": "execute_result"
    }
   ],
   "source": [
    "df.shape"
   ]
  },
  {
   "cell_type": "code",
   "execution_count": 64,
   "metadata": {},
   "outputs": [
    {
     "data": {
      "text/plain": [
       "page_link       object\n",
       "image_link      object\n",
       "name            object\n",
       "price          float64\n",
       "description     object\n",
       "brand           object\n",
       "dtype: object"
      ]
     },
     "execution_count": 64,
     "metadata": {},
     "output_type": "execute_result"
    }
   ],
   "source": [
    "df.dtypes"
   ]
  },
  {
   "cell_type": "code",
   "execution_count": 66,
   "metadata": {},
   "outputs": [],
   "source": [
    "df.to_csv(\"products.csv\")"
   ]
  },
  {
   "cell_type": "code",
   "execution_count": null,
   "metadata": {},
   "outputs": [],
   "source": []
  }
 ],
 "metadata": {
  "kernelspec": {
   "display_name": "Python 3",
   "language": "python",
   "name": "python3"
  },
  "language_info": {
   "codemirror_mode": {
    "name": "ipython",
    "version": 3
   },
   "file_extension": ".py",
   "mimetype": "text/x-python",
   "name": "python",
   "nbconvert_exporter": "python",
   "pygments_lexer": "ipython3",
   "version": "3.6.7"
  }
 },
 "nbformat": 4,
 "nbformat_minor": 2
}
