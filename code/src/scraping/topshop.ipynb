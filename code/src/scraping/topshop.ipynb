{
 "cells": [
  {
   "cell_type": "code",
   "execution_count": 1,
   "metadata": {
    "ExecuteTime": {
     "end_time": "2019-04-05T17:34:39.391458Z",
     "start_time": "2019-04-05T17:34:38.999614Z"
    }
   },
   "outputs": [],
   "source": [
    "from bs4 import BeautifulSoup\n",
    "import requests\n",
    "import pandas as pd\n",
    "import time\n",
    "import random\n",
    "import urllib"
   ]
  },
  {
   "cell_type": "code",
   "execution_count": 2,
   "metadata": {
    "ExecuteTime": {
     "end_time": "2019-04-05T17:34:40.194202Z",
     "start_time": "2019-04-05T17:34:40.184568Z"
    }
   },
   "outputs": [],
   "source": [
    "url = 'http://us.topshop.com/en/tsus/category/clothing-70483'"
   ]
  },
  {
   "cell_type": "code",
   "execution_count": 151,
   "metadata": {
    "ExecuteTime": {
     "end_time": "2019-03-31T23:39:01.082380Z",
     "start_time": "2019-03-31T23:29:02.375078Z"
    },
    "scrolled": true
   },
   "outputs": [
    {
     "name": "stdout",
     "output_type": "stream",
     "text": [
      "570\n",
      "570\n",
      "570\n",
      "570\n",
      "570\n",
      "570\n",
      "570\n",
      "570\n",
      "570\n",
      "570\n",
      "570\n",
      "570\n",
      "570\n",
      "570\n"
     ]
    }
   ],
   "source": [
    "prod_pages = []\n",
    "prod_names = []\n",
    "prod_prices = []\n",
    "prod_dp = []\n",
    "prod_images = []\n",
    "prod_ratings = []\n",
    "prod_brands = []\n",
    "delay=(1,3)\n",
    "\n",
    "browser = webdriver.Chrome('/home/aditi/Downloads/chromedriver')\n",
    "\n",
    "browser.get(url)\n",
    "time.sleep(1)\n",
    "\n",
    "elem = browser.find_element_by_tag_name(\"body\")\n",
    "\n",
    "no_of_pagedowns = 1500\n",
    "\n",
    "\n",
    "while no_of_pagedowns:\n",
    "    soup_level1=BeautifulSoup(browser.page_source, 'lxml')\n",
    "    for item in soup_level1.find_all('div', {'class': 'product'}):\n",
    "        try:\n",
    "            a = item.find('a')\n",
    "            href = (a.attrs['href'])\n",
    "            title = a.attrs['data-title']\n",
    "            img = item.find('img')\n",
    "            image = img.attrs['src']\n",
    "            price = item.p.span.text\n",
    "            prod_names.append(title)\n",
    "            prod_prices.append(price)\n",
    "            prod_images.append(image)\n",
    "        except: \n",
    "            print(1500-no_of_pagedowns)\n",
    "    elem.send_keys(Keys.PAGE_DOWN)\n",
    "    time.sleep(0.2)\n",
    "    no_of_pagedowns-=1\n",
    "    \n"
   ]
  },
  {
   "cell_type": "code",
   "execution_count": 152,
   "metadata": {
    "ExecuteTime": {
     "end_time": "2019-03-31T23:43:15.414910Z",
     "start_time": "2019-03-31T23:43:15.394947Z"
    }
   },
   "outputs": [
    {
     "name": "stdout",
     "output_type": "stream",
     "text": [
      "34302\n",
      "34302\n",
      "34302\n",
      "34302\n"
     ]
    }
   ],
   "source": [
    "print(len(prod_pages))\n",
    "print(len(prod_images))\n",
    "print(len(prod_prices))\n",
    "print(len(prod_names))"
   ]
  },
  {
   "cell_type": "code",
   "execution_count": 154,
   "metadata": {
    "ExecuteTime": {
     "end_time": "2019-03-31T23:44:02.762094Z",
     "start_time": "2019-03-31T23:44:00.943889Z"
    }
   },
   "outputs": [],
   "source": [
    "df = pd.DataFrame(data = [prod_pages, prod_names, prod_prices, prod_images])"
   ]
  },
  {
   "cell_type": "code",
   "execution_count": 158,
   "metadata": {
    "ExecuteTime": {
     "end_time": "2019-03-31T23:46:39.055254Z",
     "start_time": "2019-03-31T23:46:39.046568Z"
    }
   },
   "outputs": [],
   "source": [
    "df['domain'] = 'http://us.topshop.com'"
   ]
  },
  {
   "cell_type": "code",
   "execution_count": 160,
   "metadata": {
    "ExecuteTime": {
     "end_time": "2019-03-31T23:47:37.016775Z",
     "start_time": "2019-03-31T23:47:36.931698Z"
    }
   },
   "outputs": [
    {
     "data": {
      "text/html": [
       "<div>\n",
       "<style scoped>\n",
       "    .dataframe tbody tr th:only-of-type {\n",
       "        vertical-align: middle;\n",
       "    }\n",
       "\n",
       "    .dataframe tbody tr th {\n",
       "        vertical-align: top;\n",
       "    }\n",
       "\n",
       "    .dataframe thead th {\n",
       "        text-align: right;\n",
       "    }\n",
       "</style>\n",
       "<table border=\"1\" class=\"dataframe\">\n",
       "  <thead>\n",
       "    <tr style=\"text-align: right;\">\n",
       "      <th></th>\n",
       "      <th>link</th>\n",
       "      <th>product_name</th>\n",
       "      <th>price</th>\n",
       "      <th>image_link</th>\n",
       "      <th>domain</th>\n",
       "    </tr>\n",
       "  </thead>\n",
       "  <tbody>\n",
       "    <tr>\n",
       "      <th>0</th>\n",
       "      <td>http://us.topshop.com/en/tsus/product/clothing...</td>\n",
       "      <td>Check Peg Trousers</td>\n",
       "      <td>$68.00</td>\n",
       "      <td>https://images.topshop.com/i/TopShop/TS16R06QC...</td>\n",
       "      <td>http://us.topshop.com</td>\n",
       "    </tr>\n",
       "    <tr>\n",
       "      <th>1</th>\n",
       "      <td>http://us.topshop.com/en/tsus/product/clothing...</td>\n",
       "      <td>Scarf Hanky Top</td>\n",
       "      <td>$48.00</td>\n",
       "      <td>https://images.topshop.com/i/TopShop/TS13R14QR...</td>\n",
       "      <td>http://us.topshop.com</td>\n",
       "    </tr>\n",
       "    <tr>\n",
       "      <th>2</th>\n",
       "      <td>http://us.topshop.com/en/tsus/product/clothing...</td>\n",
       "      <td>Clip Buckle Pinafore</td>\n",
       "      <td>$68.00</td>\n",
       "      <td>https://images.topshop.com/i/TopShop/TS05P81PW...</td>\n",
       "      <td>http://us.topshop.com</td>\n",
       "    </tr>\n",
       "    <tr>\n",
       "      <th>3</th>\n",
       "      <td>http://us.topshop.com/en/tsus/product/clothing...</td>\n",
       "      <td>Mid Blue Laddered Hem Straight Jeans</td>\n",
       "      <td>$80.00</td>\n",
       "      <td>https://images.topshop.com/i/TopShop/TS02G25QM...</td>\n",
       "      <td>http://us.topshop.com</td>\n",
       "    </tr>\n",
       "    <tr>\n",
       "      <th>4</th>\n",
       "      <td>http://us.topshop.com/en/tsus/product/clothing...</td>\n",
       "      <td>Giraffe Cami</td>\n",
       "      <td>$35.00</td>\n",
       "      <td>https://images.topshop.com/i/TopShop/TS13A22QY...</td>\n",
       "      <td>http://us.topshop.com</td>\n",
       "    </tr>\n",
       "    <tr>\n",
       "      <th>5</th>\n",
       "      <td>http://us.topshop.com/en/tsus/product/clothing...</td>\n",
       "      <td>Mid Blue Lucas Jeans</td>\n",
       "      <td>$80.00</td>\n",
       "      <td>https://images.topshop.com/i/TopShop/TS02V02QM...</td>\n",
       "      <td>http://us.topshop.com</td>\n",
       "    </tr>\n",
       "    <tr>\n",
       "      <th>6</th>\n",
       "      <td>http://us.topshop.com/en/tsus/product/clothing...</td>\n",
       "      <td>Black Leather Western Jacket</td>\n",
       "      <td>$320.00</td>\n",
       "      <td>https://images.topshop.com/i/TopShop/TS11C11QB...</td>\n",
       "      <td>http://us.topshop.com</td>\n",
       "    </tr>\n",
       "    <tr>\n",
       "      <th>7</th>\n",
       "      <td>http://us.topshop.com/en/tsus/product/clothing...</td>\n",
       "      <td>Embroidered Crop Polo by Calvin Klein</td>\n",
       "      <td>$85.00</td>\n",
       "      <td>https://images.topshop.com/i/TopShop/TS12C19QW...</td>\n",
       "      <td>http://us.topshop.com</td>\n",
       "    </tr>\n",
       "    <tr>\n",
       "      <th>8</th>\n",
       "      <td>http://us.topshop.com/en/tsus/product/clothing...</td>\n",
       "      <td>**Tie Wrap Blouse By Boutique</td>\n",
       "      <td>$150.00</td>\n",
       "      <td>https://images.topshop.com/i/TopShop/TS25T14QW...</td>\n",
       "      <td>http://us.topshop.com</td>\n",
       "    </tr>\n",
       "    <tr>\n",
       "      <th>9</th>\n",
       "      <td>http://us.topshop.com/en/tsus/product/clothing...</td>\n",
       "      <td>Scallop Cami</td>\n",
       "      <td>$10.00</td>\n",
       "      <td>https://images.topshop.com/i/TopShop/TS09D28PW...</td>\n",
       "      <td>http://us.topshop.com</td>\n",
       "    </tr>\n",
       "    <tr>\n",
       "      <th>10</th>\n",
       "      <td>http://us.topshop.com/en/tsus/product/clothing...</td>\n",
       "      <td>TALL Paperbag Denim Shorts</td>\n",
       "      <td>$60.00</td>\n",
       "      <td>https://images.topshop.com/i/TopShop/TS30S06QM...</td>\n",
       "      <td>http://us.topshop.com</td>\n",
       "    </tr>\n",
       "    <tr>\n",
       "      <th>11</th>\n",
       "      <td>http://us.topshop.com/en/tsus/product/clothing...</td>\n",
       "      <td>TALL Stripe Cami with Linen</td>\n",
       "      <td>$35.00</td>\n",
       "      <td>https://images.topshop.com/i/TopShop/TS30B22QS...</td>\n",
       "      <td>http://us.topshop.com</td>\n",
       "    </tr>\n",
       "    <tr>\n",
       "      <th>12</th>\n",
       "      <td>http://us.topshop.com/en/tsus/product/clothing...</td>\n",
       "      <td>Pleat Tie Wide Leg Jeans</td>\n",
       "      <td>$80.00</td>\n",
       "      <td>https://images.topshop.com/i/TopShop/TS02C17NW...</td>\n",
       "      <td>http://us.topshop.com</td>\n",
       "    </tr>\n",
       "    <tr>\n",
       "      <th>13</th>\n",
       "      <td>http://us.topshop.com/en/tsus/product/clothing...</td>\n",
       "      <td>Poplin Off Shoulder Top</td>\n",
       "      <td>$48.00</td>\n",
       "      <td>https://images.topshop.com/i/TopShop/TS13O12QW...</td>\n",
       "      <td>http://us.topshop.com</td>\n",
       "    </tr>\n",
       "    <tr>\n",
       "      <th>14</th>\n",
       "      <td>http://us.topshop.com/en/tsus/product/clothing...</td>\n",
       "      <td>Boxy Roll T-Shirt</td>\n",
       "      <td>$18.00</td>\n",
       "      <td>https://images.topshop.com/i/TopShop/TS09A25QB...</td>\n",
       "      <td>http://us.topshop.com</td>\n",
       "    </tr>\n",
       "    <tr>\n",
       "      <th>15</th>\n",
       "      <td>http://us.topshop.com/en/tsus/product/clothing...</td>\n",
       "      <td>VIVID Snake Mule Sandals</td>\n",
       "      <td>$80.00</td>\n",
       "      <td>https://images.topshop.com/i/TopShop/TS32V05QM...</td>\n",
       "      <td>http://us.topshop.com</td>\n",
       "    </tr>\n",
       "    <tr>\n",
       "      <th>16</th>\n",
       "      <td>http://us.topshop.com/en/tsus/product/clothing...</td>\n",
       "      <td>Black Trefoil Dress by adidas</td>\n",
       "      <td>$52.00</td>\n",
       "      <td>https://images.topshop.com/i/TopShop/TS12A32QB...</td>\n",
       "      <td>http://us.topshop.com</td>\n",
       "    </tr>\n",
       "    <tr>\n",
       "      <th>17</th>\n",
       "      <td>http://us.topshop.com/en/tsus/product/clothing...</td>\n",
       "      <td>Red Tie Side Bikini Bottoms by Calvin Klein</td>\n",
       "      <td>$60.00</td>\n",
       "      <td>https://images.topshop.com/i/TopShop/TS03X03QR...</td>\n",
       "      <td>http://us.topshop.com</td>\n",
       "    </tr>\n",
       "    <tr>\n",
       "      <th>18</th>\n",
       "      <td>http://us.topshop.com/en/tsus/product/clothing...</td>\n",
       "      <td>TALL Belt Peg Trousers</td>\n",
       "      <td>$68.00</td>\n",
       "      <td>https://images.topshop.com/i/TopShop/TS30T12PS...</td>\n",
       "      <td>http://us.topshop.com</td>\n",
       "    </tr>\n",
       "    <tr>\n",
       "      <th>19</th>\n",
       "      <td>http://us.topshop.com/en/tsus/product/clothing...</td>\n",
       "      <td>White Poplin Wrap Blouse</td>\n",
       "      <td>$48.00</td>\n",
       "      <td>https://images.topshop.com/i/TopShop/TS13O11QW...</td>\n",
       "      <td>http://us.topshop.com</td>\n",
       "    </tr>\n",
       "    <tr>\n",
       "      <th>20</th>\n",
       "      <td>http://us.topshop.com/en/tsus/product/clothing...</td>\n",
       "      <td>Yellow Embroidered Panel Satin Slip Dress</td>\n",
       "      <td>$140.00</td>\n",
       "      <td>https://images.topshop.com/i/TopShop/TS10U30QY...</td>\n",
       "      <td>http://us.topshop.com</td>\n",
       "    </tr>\n",
       "    <tr>\n",
       "      <th>21</th>\n",
       "      <td>http://us.topshop.com/en/tsus/product/clothing...</td>\n",
       "      <td>**Carrot Joggers by Boutique</td>\n",
       "      <td>$130.00</td>\n",
       "      <td>https://images.topshop.com/i/TopShop/TS25S25QB...</td>\n",
       "      <td>http://us.topshop.com</td>\n",
       "    </tr>\n",
       "    <tr>\n",
       "      <th>22</th>\n",
       "      <td>http://us.topshop.com/en/tsus/product/clothing...</td>\n",
       "      <td>Red Lace Bandeau</td>\n",
       "      <td>$18.00</td>\n",
       "      <td>https://images.topshop.com/i/TopShop/TS09E02QR...</td>\n",
       "      <td>http://us.topshop.com</td>\n",
       "    </tr>\n",
       "    <tr>\n",
       "      <th>23</th>\n",
       "      <td>http://us.topshop.com/en/tsus/product/clothing...</td>\n",
       "      <td>Khaki Satin Super Split Dress by We Own The Night</td>\n",
       "      <td>$80.00</td>\n",
       "      <td>https://images.topshop.com/i/TopShop/TS12K01QK...</td>\n",
       "      <td>http://us.topshop.com</td>\n",
       "    </tr>\n",
       "    <tr>\n",
       "      <th>24</th>\n",
       "      <td>http://us.topshop.com/en/tsus/product/clothing...</td>\n",
       "      <td>Check Peg Trousers</td>\n",
       "      <td>$68.00</td>\n",
       "      <td>https://images.topshop.com/i/TopShop/TS16R06QC...</td>\n",
       "      <td>http://us.topshop.com</td>\n",
       "    </tr>\n",
       "    <tr>\n",
       "      <th>25</th>\n",
       "      <td>http://us.topshop.com/en/tsus/product/clothing...</td>\n",
       "      <td>Scarf Hanky Top</td>\n",
       "      <td>$48.00</td>\n",
       "      <td>https://images.topshop.com/i/TopShop/TS13R14QR...</td>\n",
       "      <td>http://us.topshop.com</td>\n",
       "    </tr>\n",
       "    <tr>\n",
       "      <th>26</th>\n",
       "      <td>http://us.topshop.com/en/tsus/product/clothing...</td>\n",
       "      <td>Clip Buckle Pinafore</td>\n",
       "      <td>$68.00</td>\n",
       "      <td>https://images.topshop.com/i/TopShop/TS05P81PW...</td>\n",
       "      <td>http://us.topshop.com</td>\n",
       "    </tr>\n",
       "    <tr>\n",
       "      <th>27</th>\n",
       "      <td>http://us.topshop.com/en/tsus/product/clothing...</td>\n",
       "      <td>Mid Blue Laddered Hem Straight Jeans</td>\n",
       "      <td>$80.00</td>\n",
       "      <td>https://images.topshop.com/i/TopShop/TS02G25QM...</td>\n",
       "      <td>http://us.topshop.com</td>\n",
       "    </tr>\n",
       "    <tr>\n",
       "      <th>28</th>\n",
       "      <td>http://us.topshop.com/en/tsus/product/clothing...</td>\n",
       "      <td>Giraffe Cami</td>\n",
       "      <td>$35.00</td>\n",
       "      <td>https://images.topshop.com/i/TopShop/TS13A22QY...</td>\n",
       "      <td>http://us.topshop.com</td>\n",
       "    </tr>\n",
       "    <tr>\n",
       "      <th>29</th>\n",
       "      <td>http://us.topshop.com/en/tsus/product/clothing...</td>\n",
       "      <td>Mid Blue Lucas Jeans</td>\n",
       "      <td>$80.00</td>\n",
       "      <td>https://images.topshop.com/i/TopShop/TS02V02QM...</td>\n",
       "      <td>http://us.topshop.com</td>\n",
       "    </tr>\n",
       "    <tr>\n",
       "      <th>...</th>\n",
       "      <td>...</td>\n",
       "      <td>...</td>\n",
       "      <td>...</td>\n",
       "      <td>...</td>\n",
       "      <td>...</td>\n",
       "    </tr>\n",
       "    <tr>\n",
       "      <th>34272</th>\n",
       "      <td>http://us.topshop.com/en/tsus/product/clothing...</td>\n",
       "      <td>Microfibre French Knickers</td>\n",
       "      <td>Was $10.00</td>\n",
       "      <td>https://images.topshop.com/i/TopShop/TS43A11LR...</td>\n",
       "      <td>http://us.topshop.com</td>\n",
       "    </tr>\n",
       "    <tr>\n",
       "      <th>34273</th>\n",
       "      <td>http://us.topshop.com/en/tsus/product/clothing...</td>\n",
       "      <td>Lace Thong</td>\n",
       "      <td>Was $10.00</td>\n",
       "      <td>https://images.topshop.com/i/TopShop/TS43T02LD...</td>\n",
       "      <td>http://us.topshop.com</td>\n",
       "    </tr>\n",
       "    <tr>\n",
       "      <th>34274</th>\n",
       "      <td>http://us.topshop.com/en/tsus/product/clothing...</td>\n",
       "      <td>PETITE Strap Detail Crop Top</td>\n",
       "      <td>Was $40.00</td>\n",
       "      <td>https://images.topshop.com/i/TopShop/TS26H01PG...</td>\n",
       "      <td>http://us.topshop.com</td>\n",
       "    </tr>\n",
       "    <tr>\n",
       "      <th>34275</th>\n",
       "      <td>http://us.topshop.com/en/tsus/product/clothing...</td>\n",
       "      <td>PETITE USA Neat T-Shirt</td>\n",
       "      <td>Was $28.00</td>\n",
       "      <td>https://images.topshop.com/i/TopShop/TS26N71PW...</td>\n",
       "      <td>http://us.topshop.com</td>\n",
       "    </tr>\n",
       "    <tr>\n",
       "      <th>34276</th>\n",
       "      <td>http://us.topshop.com/en/tsus/product/clothing...</td>\n",
       "      <td>Key To Freedom Star Print Shorts</td>\n",
       "      <td>Was $58.00</td>\n",
       "      <td>https://images.topshop.com/i/TopShop/TS01X11PM...</td>\n",
       "      <td>http://us.topshop.com</td>\n",
       "    </tr>\n",
       "    <tr>\n",
       "      <th>34277</th>\n",
       "      <td>http://us.topshop.com/en/tsus/product/clothing...</td>\n",
       "      <td>Tropical Print Satin Cami Top</td>\n",
       "      <td>Was $30.00</td>\n",
       "      <td>https://images.topshop.com/i/TopShop/TS01M08PP...</td>\n",
       "      <td>http://us.topshop.com</td>\n",
       "    </tr>\n",
       "    <tr>\n",
       "      <th>34278</th>\n",
       "      <td>http://us.topshop.com/en/tsus/product/clothing...</td>\n",
       "      <td>**Circle Lariat Neckwear</td>\n",
       "      <td>Was $28.00</td>\n",
       "      <td>https://images.topshop.com/i/TopShop/TS61T01NL...</td>\n",
       "      <td>http://us.topshop.com</td>\n",
       "    </tr>\n",
       "    <tr>\n",
       "      <th>34279</th>\n",
       "      <td>http://us.topshop.com/en/tsus/product/clothing...</td>\n",
       "      <td>PETITE Metal '90s Bralet</td>\n",
       "      <td>$60.00</td>\n",
       "      <td>https://images.topshop.com/i/TopShop/TS26E08NR...</td>\n",
       "      <td>http://us.topshop.com</td>\n",
       "    </tr>\n",
       "    <tr>\n",
       "      <th>34280</th>\n",
       "      <td>http://us.topshop.com/en/tsus/product/clothing...</td>\n",
       "      <td>PETITE Metal '90s Bralet</td>\n",
       "      <td>Was $60.00</td>\n",
       "      <td>https://images.topshop.com/i/TopShop/TS26E08NS...</td>\n",
       "      <td>http://us.topshop.com</td>\n",
       "    </tr>\n",
       "    <tr>\n",
       "      <th>34281</th>\n",
       "      <td>http://us.topshop.com/en/tsus/product/clothing...</td>\n",
       "      <td>PETITE Square Neck Camisole Top</td>\n",
       "      <td>Was $26.00</td>\n",
       "      <td>https://images.topshop.com/i/TopShop/TS26B24NP...</td>\n",
       "      <td>http://us.topshop.com</td>\n",
       "    </tr>\n",
       "    <tr>\n",
       "      <th>34282</th>\n",
       "      <td>http://us.topshop.com/en/tsus/product/clothing...</td>\n",
       "      <td>PETITE Square Neck Cropped Camisole Top</td>\n",
       "      <td>Was $26.00</td>\n",
       "      <td>https://images.topshop.com/i/TopShop/TS26B24NG...</td>\n",
       "      <td>http://us.topshop.com</td>\n",
       "    </tr>\n",
       "    <tr>\n",
       "      <th>34283</th>\n",
       "      <td>http://us.topshop.com/en/tsus/product/clothing...</td>\n",
       "      <td>PETITE Metal Shirred Bardot Top</td>\n",
       "      <td>Was $45.00</td>\n",
       "      <td>https://images.topshop.com/i/TopShop/TS26N65MB...</td>\n",
       "      <td>http://us.topshop.com</td>\n",
       "    </tr>\n",
       "    <tr>\n",
       "      <th>34284</th>\n",
       "      <td>http://us.topshop.com/en/tsus/product/clothing...</td>\n",
       "      <td>Lace Thong</td>\n",
       "      <td>Was $10.00</td>\n",
       "      <td>https://images.topshop.com/i/TopShop/TS43O04MN...</td>\n",
       "      <td>http://us.topshop.com</td>\n",
       "    </tr>\n",
       "    <tr>\n",
       "      <th>34285</th>\n",
       "      <td>http://us.topshop.com/en/tsus/product/clothing...</td>\n",
       "      <td>PRETTY LACE THONG</td>\n",
       "      <td>Was $10.00</td>\n",
       "      <td>https://images.topshop.com/i/TopShop/TS43O05KI...</td>\n",
       "      <td>http://us.topshop.com</td>\n",
       "    </tr>\n",
       "    <tr>\n",
       "      <th>34286</th>\n",
       "      <td>http://us.topshop.com/en/tsus/product/clothing...</td>\n",
       "      <td>Microfibre French Knickers</td>\n",
       "      <td>Was $10.00</td>\n",
       "      <td>https://images.topshop.com/i/TopShop/TS43A11LR...</td>\n",
       "      <td>http://us.topshop.com</td>\n",
       "    </tr>\n",
       "    <tr>\n",
       "      <th>34287</th>\n",
       "      <td>http://us.topshop.com/en/tsus/product/clothing...</td>\n",
       "      <td>Lace Thong</td>\n",
       "      <td>Was $10.00</td>\n",
       "      <td>https://images.topshop.com/i/TopShop/TS43T02LD...</td>\n",
       "      <td>http://us.topshop.com</td>\n",
       "    </tr>\n",
       "    <tr>\n",
       "      <th>34288</th>\n",
       "      <td>http://us.topshop.com/en/tsus/product/clothing...</td>\n",
       "      <td>PETITE Strap Detail Crop Top</td>\n",
       "      <td>Was $40.00</td>\n",
       "      <td>https://images.topshop.com/i/TopShop/TS26H01PG...</td>\n",
       "      <td>http://us.topshop.com</td>\n",
       "    </tr>\n",
       "    <tr>\n",
       "      <th>34289</th>\n",
       "      <td>http://us.topshop.com/en/tsus/product/clothing...</td>\n",
       "      <td>PETITE USA Neat T-Shirt</td>\n",
       "      <td>Was $28.00</td>\n",
       "      <td>https://images.topshop.com/i/TopShop/TS26N71PW...</td>\n",
       "      <td>http://us.topshop.com</td>\n",
       "    </tr>\n",
       "    <tr>\n",
       "      <th>34290</th>\n",
       "      <td>http://us.topshop.com/en/tsus/product/clothing...</td>\n",
       "      <td>Key To Freedom Star Print Shorts</td>\n",
       "      <td>Was $58.00</td>\n",
       "      <td>https://images.topshop.com/i/TopShop/TS01X11PM...</td>\n",
       "      <td>http://us.topshop.com</td>\n",
       "    </tr>\n",
       "    <tr>\n",
       "      <th>34291</th>\n",
       "      <td>http://us.topshop.com/en/tsus/product/clothing...</td>\n",
       "      <td>Tropical Print Satin Cami Top</td>\n",
       "      <td>Was $30.00</td>\n",
       "      <td>https://images.topshop.com/i/TopShop/TS01M08PP...</td>\n",
       "      <td>http://us.topshop.com</td>\n",
       "    </tr>\n",
       "    <tr>\n",
       "      <th>34292</th>\n",
       "      <td>http://us.topshop.com/en/tsus/product/clothing...</td>\n",
       "      <td>**Circle Lariat Neckwear</td>\n",
       "      <td>Was $28.00</td>\n",
       "      <td>https://images.topshop.com/i/TopShop/TS61T01NL...</td>\n",
       "      <td>http://us.topshop.com</td>\n",
       "    </tr>\n",
       "    <tr>\n",
       "      <th>34293</th>\n",
       "      <td>http://us.topshop.com/en/tsus/product/clothing...</td>\n",
       "      <td>PETITE Metal '90s Bralet</td>\n",
       "      <td>$60.00</td>\n",
       "      <td>https://images.topshop.com/i/TopShop/TS26E08NR...</td>\n",
       "      <td>http://us.topshop.com</td>\n",
       "    </tr>\n",
       "    <tr>\n",
       "      <th>34294</th>\n",
       "      <td>http://us.topshop.com/en/tsus/product/clothing...</td>\n",
       "      <td>PETITE Metal '90s Bralet</td>\n",
       "      <td>Was $60.00</td>\n",
       "      <td>https://images.topshop.com/i/TopShop/TS26E08NS...</td>\n",
       "      <td>http://us.topshop.com</td>\n",
       "    </tr>\n",
       "    <tr>\n",
       "      <th>34295</th>\n",
       "      <td>http://us.topshop.com/en/tsus/product/clothing...</td>\n",
       "      <td>PETITE Square Neck Camisole Top</td>\n",
       "      <td>Was $26.00</td>\n",
       "      <td>https://images.topshop.com/i/TopShop/TS26B24NP...</td>\n",
       "      <td>http://us.topshop.com</td>\n",
       "    </tr>\n",
       "    <tr>\n",
       "      <th>34296</th>\n",
       "      <td>http://us.topshop.com/en/tsus/product/clothing...</td>\n",
       "      <td>PETITE Square Neck Cropped Camisole Top</td>\n",
       "      <td>Was $26.00</td>\n",
       "      <td>https://images.topshop.com/i/TopShop/TS26B24NG...</td>\n",
       "      <td>http://us.topshop.com</td>\n",
       "    </tr>\n",
       "    <tr>\n",
       "      <th>34297</th>\n",
       "      <td>http://us.topshop.com/en/tsus/product/clothing...</td>\n",
       "      <td>PETITE Metal Shirred Bardot Top</td>\n",
       "      <td>Was $45.00</td>\n",
       "      <td>https://images.topshop.com/i/TopShop/TS26N65MB...</td>\n",
       "      <td>http://us.topshop.com</td>\n",
       "    </tr>\n",
       "    <tr>\n",
       "      <th>34298</th>\n",
       "      <td>http://us.topshop.com/en/tsus/product/clothing...</td>\n",
       "      <td>Lace Thong</td>\n",
       "      <td>Was $10.00</td>\n",
       "      <td>https://images.topshop.com/i/TopShop/TS43O04MN...</td>\n",
       "      <td>http://us.topshop.com</td>\n",
       "    </tr>\n",
       "    <tr>\n",
       "      <th>34299</th>\n",
       "      <td>http://us.topshop.com/en/tsus/product/clothing...</td>\n",
       "      <td>PRETTY LACE THONG</td>\n",
       "      <td>Was $10.00</td>\n",
       "      <td>https://images.topshop.com/i/TopShop/TS43O05KI...</td>\n",
       "      <td>http://us.topshop.com</td>\n",
       "    </tr>\n",
       "    <tr>\n",
       "      <th>34300</th>\n",
       "      <td>http://us.topshop.com/en/tsus/product/clothing...</td>\n",
       "      <td>Microfibre French Knickers</td>\n",
       "      <td>Was $10.00</td>\n",
       "      <td>https://images.topshop.com/i/TopShop/TS43A11LR...</td>\n",
       "      <td>http://us.topshop.com</td>\n",
       "    </tr>\n",
       "    <tr>\n",
       "      <th>34301</th>\n",
       "      <td>http://us.topshop.com/en/tsus/product/clothing...</td>\n",
       "      <td>Lace Thong</td>\n",
       "      <td>Was $10.00</td>\n",
       "      <td>https://images.topshop.com/i/TopShop/TS43T02LD...</td>\n",
       "      <td>http://us.topshop.com</td>\n",
       "    </tr>\n",
       "  </tbody>\n",
       "</table>\n",
       "<p>34302 rows × 5 columns</p>\n",
       "</div>"
      ],
      "text/plain": [
       "                                                    link  \\\n",
       "0      http://us.topshop.com/en/tsus/product/clothing...   \n",
       "1      http://us.topshop.com/en/tsus/product/clothing...   \n",
       "2      http://us.topshop.com/en/tsus/product/clothing...   \n",
       "3      http://us.topshop.com/en/tsus/product/clothing...   \n",
       "4      http://us.topshop.com/en/tsus/product/clothing...   \n",
       "5      http://us.topshop.com/en/tsus/product/clothing...   \n",
       "6      http://us.topshop.com/en/tsus/product/clothing...   \n",
       "7      http://us.topshop.com/en/tsus/product/clothing...   \n",
       "8      http://us.topshop.com/en/tsus/product/clothing...   \n",
       "9      http://us.topshop.com/en/tsus/product/clothing...   \n",
       "10     http://us.topshop.com/en/tsus/product/clothing...   \n",
       "11     http://us.topshop.com/en/tsus/product/clothing...   \n",
       "12     http://us.topshop.com/en/tsus/product/clothing...   \n",
       "13     http://us.topshop.com/en/tsus/product/clothing...   \n",
       "14     http://us.topshop.com/en/tsus/product/clothing...   \n",
       "15     http://us.topshop.com/en/tsus/product/clothing...   \n",
       "16     http://us.topshop.com/en/tsus/product/clothing...   \n",
       "17     http://us.topshop.com/en/tsus/product/clothing...   \n",
       "18     http://us.topshop.com/en/tsus/product/clothing...   \n",
       "19     http://us.topshop.com/en/tsus/product/clothing...   \n",
       "20     http://us.topshop.com/en/tsus/product/clothing...   \n",
       "21     http://us.topshop.com/en/tsus/product/clothing...   \n",
       "22     http://us.topshop.com/en/tsus/product/clothing...   \n",
       "23     http://us.topshop.com/en/tsus/product/clothing...   \n",
       "24     http://us.topshop.com/en/tsus/product/clothing...   \n",
       "25     http://us.topshop.com/en/tsus/product/clothing...   \n",
       "26     http://us.topshop.com/en/tsus/product/clothing...   \n",
       "27     http://us.topshop.com/en/tsus/product/clothing...   \n",
       "28     http://us.topshop.com/en/tsus/product/clothing...   \n",
       "29     http://us.topshop.com/en/tsus/product/clothing...   \n",
       "...                                                  ...   \n",
       "34272  http://us.topshop.com/en/tsus/product/clothing...   \n",
       "34273  http://us.topshop.com/en/tsus/product/clothing...   \n",
       "34274  http://us.topshop.com/en/tsus/product/clothing...   \n",
       "34275  http://us.topshop.com/en/tsus/product/clothing...   \n",
       "34276  http://us.topshop.com/en/tsus/product/clothing...   \n",
       "34277  http://us.topshop.com/en/tsus/product/clothing...   \n",
       "34278  http://us.topshop.com/en/tsus/product/clothing...   \n",
       "34279  http://us.topshop.com/en/tsus/product/clothing...   \n",
       "34280  http://us.topshop.com/en/tsus/product/clothing...   \n",
       "34281  http://us.topshop.com/en/tsus/product/clothing...   \n",
       "34282  http://us.topshop.com/en/tsus/product/clothing...   \n",
       "34283  http://us.topshop.com/en/tsus/product/clothing...   \n",
       "34284  http://us.topshop.com/en/tsus/product/clothing...   \n",
       "34285  http://us.topshop.com/en/tsus/product/clothing...   \n",
       "34286  http://us.topshop.com/en/tsus/product/clothing...   \n",
       "34287  http://us.topshop.com/en/tsus/product/clothing...   \n",
       "34288  http://us.topshop.com/en/tsus/product/clothing...   \n",
       "34289  http://us.topshop.com/en/tsus/product/clothing...   \n",
       "34290  http://us.topshop.com/en/tsus/product/clothing...   \n",
       "34291  http://us.topshop.com/en/tsus/product/clothing...   \n",
       "34292  http://us.topshop.com/en/tsus/product/clothing...   \n",
       "34293  http://us.topshop.com/en/tsus/product/clothing...   \n",
       "34294  http://us.topshop.com/en/tsus/product/clothing...   \n",
       "34295  http://us.topshop.com/en/tsus/product/clothing...   \n",
       "34296  http://us.topshop.com/en/tsus/product/clothing...   \n",
       "34297  http://us.topshop.com/en/tsus/product/clothing...   \n",
       "34298  http://us.topshop.com/en/tsus/product/clothing...   \n",
       "34299  http://us.topshop.com/en/tsus/product/clothing...   \n",
       "34300  http://us.topshop.com/en/tsus/product/clothing...   \n",
       "34301  http://us.topshop.com/en/tsus/product/clothing...   \n",
       "\n",
       "                                            product_name       price  \\\n",
       "0                                     Check Peg Trousers      $68.00   \n",
       "1                                        Scarf Hanky Top      $48.00   \n",
       "2                                   Clip Buckle Pinafore      $68.00   \n",
       "3                   Mid Blue Laddered Hem Straight Jeans      $80.00   \n",
       "4                                           Giraffe Cami      $35.00   \n",
       "5                                   Mid Blue Lucas Jeans      $80.00   \n",
       "6                           Black Leather Western Jacket     $320.00   \n",
       "7                  Embroidered Crop Polo by Calvin Klein      $85.00   \n",
       "8                          **Tie Wrap Blouse By Boutique     $150.00   \n",
       "9                                           Scallop Cami      $10.00   \n",
       "10                            TALL Paperbag Denim Shorts      $60.00   \n",
       "11                           TALL Stripe Cami with Linen      $35.00   \n",
       "12                              Pleat Tie Wide Leg Jeans      $80.00   \n",
       "13                               Poplin Off Shoulder Top      $48.00   \n",
       "14                                     Boxy Roll T-Shirt      $18.00   \n",
       "15                              VIVID Snake Mule Sandals      $80.00   \n",
       "16                         Black Trefoil Dress by adidas      $52.00   \n",
       "17           Red Tie Side Bikini Bottoms by Calvin Klein      $60.00   \n",
       "18                                TALL Belt Peg Trousers      $68.00   \n",
       "19                              White Poplin Wrap Blouse      $48.00   \n",
       "20             Yellow Embroidered Panel Satin Slip Dress     $140.00   \n",
       "21                          **Carrot Joggers by Boutique     $130.00   \n",
       "22                                      Red Lace Bandeau      $18.00   \n",
       "23     Khaki Satin Super Split Dress by We Own The Night      $80.00   \n",
       "24                                    Check Peg Trousers      $68.00   \n",
       "25                                       Scarf Hanky Top      $48.00   \n",
       "26                                  Clip Buckle Pinafore      $68.00   \n",
       "27                  Mid Blue Laddered Hem Straight Jeans      $80.00   \n",
       "28                                          Giraffe Cami      $35.00   \n",
       "29                                  Mid Blue Lucas Jeans      $80.00   \n",
       "...                                                  ...         ...   \n",
       "34272                         Microfibre French Knickers  Was $10.00   \n",
       "34273                                         Lace Thong  Was $10.00   \n",
       "34274                       PETITE Strap Detail Crop Top  Was $40.00   \n",
       "34275                            PETITE USA Neat T-Shirt  Was $28.00   \n",
       "34276                   Key To Freedom Star Print Shorts  Was $58.00   \n",
       "34277                      Tropical Print Satin Cami Top  Was $30.00   \n",
       "34278                           **Circle Lariat Neckwear  Was $28.00   \n",
       "34279                           PETITE Metal '90s Bralet      $60.00   \n",
       "34280                           PETITE Metal '90s Bralet  Was $60.00   \n",
       "34281                    PETITE Square Neck Camisole Top  Was $26.00   \n",
       "34282            PETITE Square Neck Cropped Camisole Top  Was $26.00   \n",
       "34283                    PETITE Metal Shirred Bardot Top  Was $45.00   \n",
       "34284                                         Lace Thong  Was $10.00   \n",
       "34285                                  PRETTY LACE THONG  Was $10.00   \n",
       "34286                         Microfibre French Knickers  Was $10.00   \n",
       "34287                                         Lace Thong  Was $10.00   \n",
       "34288                       PETITE Strap Detail Crop Top  Was $40.00   \n",
       "34289                            PETITE USA Neat T-Shirt  Was $28.00   \n",
       "34290                   Key To Freedom Star Print Shorts  Was $58.00   \n",
       "34291                      Tropical Print Satin Cami Top  Was $30.00   \n",
       "34292                           **Circle Lariat Neckwear  Was $28.00   \n",
       "34293                           PETITE Metal '90s Bralet      $60.00   \n",
       "34294                           PETITE Metal '90s Bralet  Was $60.00   \n",
       "34295                    PETITE Square Neck Camisole Top  Was $26.00   \n",
       "34296            PETITE Square Neck Cropped Camisole Top  Was $26.00   \n",
       "34297                    PETITE Metal Shirred Bardot Top  Was $45.00   \n",
       "34298                                         Lace Thong  Was $10.00   \n",
       "34299                                  PRETTY LACE THONG  Was $10.00   \n",
       "34300                         Microfibre French Knickers  Was $10.00   \n",
       "34301                                         Lace Thong  Was $10.00   \n",
       "\n",
       "                                              image_link  \\\n",
       "0      https://images.topshop.com/i/TopShop/TS16R06QC...   \n",
       "1      https://images.topshop.com/i/TopShop/TS13R14QR...   \n",
       "2      https://images.topshop.com/i/TopShop/TS05P81PW...   \n",
       "3      https://images.topshop.com/i/TopShop/TS02G25QM...   \n",
       "4      https://images.topshop.com/i/TopShop/TS13A22QY...   \n",
       "5      https://images.topshop.com/i/TopShop/TS02V02QM...   \n",
       "6      https://images.topshop.com/i/TopShop/TS11C11QB...   \n",
       "7      https://images.topshop.com/i/TopShop/TS12C19QW...   \n",
       "8      https://images.topshop.com/i/TopShop/TS25T14QW...   \n",
       "9      https://images.topshop.com/i/TopShop/TS09D28PW...   \n",
       "10     https://images.topshop.com/i/TopShop/TS30S06QM...   \n",
       "11     https://images.topshop.com/i/TopShop/TS30B22QS...   \n",
       "12     https://images.topshop.com/i/TopShop/TS02C17NW...   \n",
       "13     https://images.topshop.com/i/TopShop/TS13O12QW...   \n",
       "14     https://images.topshop.com/i/TopShop/TS09A25QB...   \n",
       "15     https://images.topshop.com/i/TopShop/TS32V05QM...   \n",
       "16     https://images.topshop.com/i/TopShop/TS12A32QB...   \n",
       "17     https://images.topshop.com/i/TopShop/TS03X03QR...   \n",
       "18     https://images.topshop.com/i/TopShop/TS30T12PS...   \n",
       "19     https://images.topshop.com/i/TopShop/TS13O11QW...   \n",
       "20     https://images.topshop.com/i/TopShop/TS10U30QY...   \n",
       "21     https://images.topshop.com/i/TopShop/TS25S25QB...   \n",
       "22     https://images.topshop.com/i/TopShop/TS09E02QR...   \n",
       "23     https://images.topshop.com/i/TopShop/TS12K01QK...   \n",
       "24     https://images.topshop.com/i/TopShop/TS16R06QC...   \n",
       "25     https://images.topshop.com/i/TopShop/TS13R14QR...   \n",
       "26     https://images.topshop.com/i/TopShop/TS05P81PW...   \n",
       "27     https://images.topshop.com/i/TopShop/TS02G25QM...   \n",
       "28     https://images.topshop.com/i/TopShop/TS13A22QY...   \n",
       "29     https://images.topshop.com/i/TopShop/TS02V02QM...   \n",
       "...                                                  ...   \n",
       "34272  https://images.topshop.com/i/TopShop/TS43A11LR...   \n",
       "34273  https://images.topshop.com/i/TopShop/TS43T02LD...   \n",
       "34274  https://images.topshop.com/i/TopShop/TS26H01PG...   \n",
       "34275  https://images.topshop.com/i/TopShop/TS26N71PW...   \n",
       "34276  https://images.topshop.com/i/TopShop/TS01X11PM...   \n",
       "34277  https://images.topshop.com/i/TopShop/TS01M08PP...   \n",
       "34278  https://images.topshop.com/i/TopShop/TS61T01NL...   \n",
       "34279  https://images.topshop.com/i/TopShop/TS26E08NR...   \n",
       "34280  https://images.topshop.com/i/TopShop/TS26E08NS...   \n",
       "34281  https://images.topshop.com/i/TopShop/TS26B24NP...   \n",
       "34282  https://images.topshop.com/i/TopShop/TS26B24NG...   \n",
       "34283  https://images.topshop.com/i/TopShop/TS26N65MB...   \n",
       "34284  https://images.topshop.com/i/TopShop/TS43O04MN...   \n",
       "34285  https://images.topshop.com/i/TopShop/TS43O05KI...   \n",
       "34286  https://images.topshop.com/i/TopShop/TS43A11LR...   \n",
       "34287  https://images.topshop.com/i/TopShop/TS43T02LD...   \n",
       "34288  https://images.topshop.com/i/TopShop/TS26H01PG...   \n",
       "34289  https://images.topshop.com/i/TopShop/TS26N71PW...   \n",
       "34290  https://images.topshop.com/i/TopShop/TS01X11PM...   \n",
       "34291  https://images.topshop.com/i/TopShop/TS01M08PP...   \n",
       "34292  https://images.topshop.com/i/TopShop/TS61T01NL...   \n",
       "34293  https://images.topshop.com/i/TopShop/TS26E08NR...   \n",
       "34294  https://images.topshop.com/i/TopShop/TS26E08NS...   \n",
       "34295  https://images.topshop.com/i/TopShop/TS26B24NP...   \n",
       "34296  https://images.topshop.com/i/TopShop/TS26B24NG...   \n",
       "34297  https://images.topshop.com/i/TopShop/TS26N65MB...   \n",
       "34298  https://images.topshop.com/i/TopShop/TS43O04MN...   \n",
       "34299  https://images.topshop.com/i/TopShop/TS43O05KI...   \n",
       "34300  https://images.topshop.com/i/TopShop/TS43A11LR...   \n",
       "34301  https://images.topshop.com/i/TopShop/TS43T02LD...   \n",
       "\n",
       "                      domain  \n",
       "0      http://us.topshop.com  \n",
       "1      http://us.topshop.com  \n",
       "2      http://us.topshop.com  \n",
       "3      http://us.topshop.com  \n",
       "4      http://us.topshop.com  \n",
       "5      http://us.topshop.com  \n",
       "6      http://us.topshop.com  \n",
       "7      http://us.topshop.com  \n",
       "8      http://us.topshop.com  \n",
       "9      http://us.topshop.com  \n",
       "10     http://us.topshop.com  \n",
       "11     http://us.topshop.com  \n",
       "12     http://us.topshop.com  \n",
       "13     http://us.topshop.com  \n",
       "14     http://us.topshop.com  \n",
       "15     http://us.topshop.com  \n",
       "16     http://us.topshop.com  \n",
       "17     http://us.topshop.com  \n",
       "18     http://us.topshop.com  \n",
       "19     http://us.topshop.com  \n",
       "20     http://us.topshop.com  \n",
       "21     http://us.topshop.com  \n",
       "22     http://us.topshop.com  \n",
       "23     http://us.topshop.com  \n",
       "24     http://us.topshop.com  \n",
       "25     http://us.topshop.com  \n",
       "26     http://us.topshop.com  \n",
       "27     http://us.topshop.com  \n",
       "28     http://us.topshop.com  \n",
       "29     http://us.topshop.com  \n",
       "...                      ...  \n",
       "34272  http://us.topshop.com  \n",
       "34273  http://us.topshop.com  \n",
       "34274  http://us.topshop.com  \n",
       "34275  http://us.topshop.com  \n",
       "34276  http://us.topshop.com  \n",
       "34277  http://us.topshop.com  \n",
       "34278  http://us.topshop.com  \n",
       "34279  http://us.topshop.com  \n",
       "34280  http://us.topshop.com  \n",
       "34281  http://us.topshop.com  \n",
       "34282  http://us.topshop.com  \n",
       "34283  http://us.topshop.com  \n",
       "34284  http://us.topshop.com  \n",
       "34285  http://us.topshop.com  \n",
       "34286  http://us.topshop.com  \n",
       "34287  http://us.topshop.com  \n",
       "34288  http://us.topshop.com  \n",
       "34289  http://us.topshop.com  \n",
       "34290  http://us.topshop.com  \n",
       "34291  http://us.topshop.com  \n",
       "34292  http://us.topshop.com  \n",
       "34293  http://us.topshop.com  \n",
       "34294  http://us.topshop.com  \n",
       "34295  http://us.topshop.com  \n",
       "34296  http://us.topshop.com  \n",
       "34297  http://us.topshop.com  \n",
       "34298  http://us.topshop.com  \n",
       "34299  http://us.topshop.com  \n",
       "34300  http://us.topshop.com  \n",
       "34301  http://us.topshop.com  \n",
       "\n",
       "[34302 rows x 5 columns]"
      ]
     },
     "execution_count": 160,
     "metadata": {},
     "output_type": "execute_result"
    }
   ],
   "source": [
    "df.columns = ['link', 'product_name', 'price', 'image_link', 'domain']\n",
    "df['link'] = df['domain'] + df['link']\n",
    "df"
   ]
  },
  {
   "cell_type": "code",
   "execution_count": 161,
   "metadata": {
    "ExecuteTime": {
     "end_time": "2019-03-31T23:48:00.185703Z",
     "start_time": "2019-03-31T23:48:00.159135Z"
    }
   },
   "outputs": [],
   "source": [
    "df.drop('domain', axis = 1, inplace = True)"
   ]
  },
  {
   "cell_type": "code",
   "execution_count": 163,
   "metadata": {
    "ExecuteTime": {
     "end_time": "2019-03-31T23:48:24.844690Z",
     "start_time": "2019-03-31T23:48:24.831780Z"
    }
   },
   "outputs": [],
   "source": [
    "df['brand'] = 'TopShop'"
   ]
  },
  {
   "cell_type": "code",
   "execution_count": 167,
   "metadata": {
    "ExecuteTime": {
     "end_time": "2019-03-31T23:48:53.687433Z",
     "start_time": "2019-03-31T23:48:53.659499Z"
    }
   },
   "outputs": [
    {
     "data": {
      "text/plain": [
       "3611"
      ]
     },
     "execution_count": 167,
     "metadata": {},
     "output_type": "execute_result"
    }
   ],
   "source": [
    "df.product_name.nunique()"
   ]
  },
  {
   "cell_type": "code",
   "execution_count": 170,
   "metadata": {
    "ExecuteTime": {
     "end_time": "2019-03-31T23:49:50.329966Z",
     "start_time": "2019-03-31T23:49:50.290368Z"
    }
   },
   "outputs": [],
   "source": [
    "df = df.drop_duplicates()"
   ]
  },
  {
   "cell_type": "code",
   "execution_count": 179,
   "metadata": {
    "ExecuteTime": {
     "end_time": "2019-03-31T23:59:37.469120Z",
     "start_time": "2019-03-31T23:59:37.420142Z"
    }
   },
   "outputs": [
    {
     "data": {
      "text/html": [
       "<div>\n",
       "<style scoped>\n",
       "    .dataframe tbody tr th:only-of-type {\n",
       "        vertical-align: middle;\n",
       "    }\n",
       "\n",
       "    .dataframe tbody tr th {\n",
       "        vertical-align: top;\n",
       "    }\n",
       "\n",
       "    .dataframe thead th {\n",
       "        text-align: right;\n",
       "    }\n",
       "</style>\n",
       "<table border=\"1\" class=\"dataframe\">\n",
       "  <thead>\n",
       "    <tr style=\"text-align: right;\">\n",
       "      <th></th>\n",
       "      <th>0</th>\n",
       "      <th>1</th>\n",
       "      <th>2</th>\n",
       "      <th>3</th>\n",
       "      <th>4</th>\n",
       "    </tr>\n",
       "  </thead>\n",
       "  <tbody>\n",
       "    <tr>\n",
       "      <th>link</th>\n",
       "      <td>http://us.topshop.com/en/tsus/product/clothing...</td>\n",
       "      <td>http://us.topshop.com/en/tsus/product/clothing...</td>\n",
       "      <td>http://us.topshop.com/en/tsus/product/clothing...</td>\n",
       "      <td>http://us.topshop.com/en/tsus/product/clothing...</td>\n",
       "      <td>http://us.topshop.com/en/tsus/product/clothing...</td>\n",
       "    </tr>\n",
       "    <tr>\n",
       "      <th>product_name</th>\n",
       "      <td>Check Peg Trousers</td>\n",
       "      <td>Scarf Hanky Top</td>\n",
       "      <td>Clip Buckle Pinafore</td>\n",
       "      <td>Mid Blue Laddered Hem Straight Jeans</td>\n",
       "      <td>Giraffe Cami</td>\n",
       "    </tr>\n",
       "    <tr>\n",
       "      <th>price</th>\n",
       "      <td>$68.00</td>\n",
       "      <td>$48.00</td>\n",
       "      <td>$68.00</td>\n",
       "      <td>$80.00</td>\n",
       "      <td>$35.00</td>\n",
       "    </tr>\n",
       "    <tr>\n",
       "      <th>image_link</th>\n",
       "      <td>https://images.topshop.com/i/TopShop/TS16R06QC...</td>\n",
       "      <td>https://images.topshop.com/i/TopShop/TS13R14QR...</td>\n",
       "      <td>https://images.topshop.com/i/TopShop/TS05P81PW...</td>\n",
       "      <td>https://images.topshop.com/i/TopShop/TS02G25QM...</td>\n",
       "      <td>https://images.topshop.com/i/TopShop/TS13A22QY...</td>\n",
       "    </tr>\n",
       "    <tr>\n",
       "      <th>brand</th>\n",
       "      <td>TopShop</td>\n",
       "      <td>TopShop</td>\n",
       "      <td>TopShop</td>\n",
       "      <td>TopShop</td>\n",
       "      <td>TopShop</td>\n",
       "    </tr>\n",
       "  </tbody>\n",
       "</table>\n",
       "</div>"
      ],
      "text/plain": [
       "                                                              0  \\\n",
       "link          http://us.topshop.com/en/tsus/product/clothing...   \n",
       "product_name                                 Check Peg Trousers   \n",
       "price                                                    $68.00   \n",
       "image_link    https://images.topshop.com/i/TopShop/TS16R06QC...   \n",
       "brand                                                   TopShop   \n",
       "\n",
       "                                                              1  \\\n",
       "link          http://us.topshop.com/en/tsus/product/clothing...   \n",
       "product_name                                    Scarf Hanky Top   \n",
       "price                                                    $48.00   \n",
       "image_link    https://images.topshop.com/i/TopShop/TS13R14QR...   \n",
       "brand                                                   TopShop   \n",
       "\n",
       "                                                              2  \\\n",
       "link          http://us.topshop.com/en/tsus/product/clothing...   \n",
       "product_name                               Clip Buckle Pinafore   \n",
       "price                                                    $68.00   \n",
       "image_link    https://images.topshop.com/i/TopShop/TS05P81PW...   \n",
       "brand                                                   TopShop   \n",
       "\n",
       "                                                              3  \\\n",
       "link          http://us.topshop.com/en/tsus/product/clothing...   \n",
       "product_name               Mid Blue Laddered Hem Straight Jeans   \n",
       "price                                                    $80.00   \n",
       "image_link    https://images.topshop.com/i/TopShop/TS02G25QM...   \n",
       "brand                                                   TopShop   \n",
       "\n",
       "                                                              4  \n",
       "link          http://us.topshop.com/en/tsus/product/clothing...  \n",
       "product_name                                       Giraffe Cami  \n",
       "price                                                    $35.00  \n",
       "image_link    https://images.topshop.com/i/TopShop/TS13A22QY...  \n",
       "brand                                                   TopShop  "
      ]
     },
     "execution_count": 179,
     "metadata": {},
     "output_type": "execute_result"
    }
   ],
   "source": [
    "df.head().T"
   ]
  },
  {
   "cell_type": "code",
   "execution_count": 173,
   "metadata": {
    "ExecuteTime": {
     "end_time": "2019-03-31T23:50:03.238901Z",
     "start_time": "2019-03-31T23:50:03.223629Z"
    }
   },
   "outputs": [
    {
     "data": {
      "text/plain": [
       "(4307, 5)"
      ]
     },
     "execution_count": 173,
     "metadata": {},
     "output_type": "execute_result"
    }
   ],
   "source": [
    "df.shape"
   ]
  },
  {
   "cell_type": "code",
   "execution_count": 174,
   "metadata": {
    "ExecuteTime": {
     "end_time": "2019-03-31T23:50:24.501062Z",
     "start_time": "2019-03-31T23:50:24.464902Z"
    }
   },
   "outputs": [],
   "source": [
    "df.to_csv('topshop.csv', index=False)"
   ]
  },
  {
   "cell_type": "code",
   "execution_count": 3,
   "metadata": {
    "ExecuteTime": {
     "end_time": "2019-04-05T17:42:43.722908Z",
     "start_time": "2019-04-05T17:42:43.680432Z"
    }
   },
   "outputs": [],
   "source": [
    "df = pd.read_csv('topshop.csv')"
   ]
  },
  {
   "cell_type": "code",
   "execution_count": 5,
   "metadata": {
    "ExecuteTime": {
     "end_time": "2019-04-05T17:43:59.251068Z",
     "start_time": "2019-04-05T17:43:59.239346Z"
    }
   },
   "outputs": [
    {
     "data": {
      "text/plain": [
       "'http://us.topshop.com/en/tsus/product/clothing-70483/check-peg-trouser-8560355'"
      ]
     },
     "execution_count": 5,
     "metadata": {},
     "output_type": "execute_result"
    }
   ],
   "source": [
    "df.link[0]"
   ]
  },
  {
   "cell_type": "code",
   "execution_count": 103,
   "metadata": {
    "ExecuteTime": {
     "end_time": "2019-04-05T21:23:58.621008Z",
     "start_time": "2019-04-05T19:49:45.892877Z"
    }
   },
   "outputs": [
    {
     "name": "stderr",
     "output_type": "stream",
     "text": [
      "/home/aditi/anaconda3/lib/python3.6/site-packages/bs4/__init__.py:181: UserWarning: No parser was explicitly specified, so I'm using the best available HTML parser for this system (\"lxml\"). This usually isn't a problem, but if you run this code on another system, or in a different virtual environment, it may use a different parser and behave differently.\n",
      "\n",
      "The code that caused this warning is on line 193 of the file /home/aditi/anaconda3/lib/python3.6/runpy.py. To get rid of this warning, change code that looks like this:\n",
      "\n",
      " BeautifulSoup(YOUR_MARKUP})\n",
      "\n",
      "to this:\n",
      "\n",
      " BeautifulSoup(YOUR_MARKUP, \"lxml\")\n",
      "\n",
      "  markup_type=markup_type))\n"
     ]
    }
   ],
   "source": [
    "desc = []\n",
    "for i in df.link:\n",
    "    try:\n",
    "        req = urllib.request.Request(i, headers={'User-Agent' : \"Magic Browser\"})\n",
    "        con = urllib.request.urlopen( req )\n",
    "        soup_level1=BeautifulSoup(con.read().decode(\"utf-8\"))\n",
    "        desc.append(soup_level1.find('div', {'id': 'productInfo'}).p.text)\n",
    "    except:\n",
    "        desc.append('No Description')"
   ]
  },
  {
   "cell_type": "code",
   "execution_count": 104,
   "metadata": {
    "ExecuteTime": {
     "end_time": "2019-04-05T23:20:11.988562Z",
     "start_time": "2019-04-05T23:20:11.985071Z"
    }
   },
   "outputs": [
    {
     "data": {
      "text/plain": [
       "4307"
      ]
     },
     "execution_count": 104,
     "metadata": {},
     "output_type": "execute_result"
    }
   ],
   "source": [
    "len(desc)"
   ]
  },
  {
   "cell_type": "code",
   "execution_count": 105,
   "metadata": {
    "ExecuteTime": {
     "end_time": "2019-04-05T23:20:21.177434Z",
     "start_time": "2019-04-05T23:20:21.166739Z"
    }
   },
   "outputs": [
    {
     "data": {
      "text/plain": [
       "4307"
      ]
     },
     "execution_count": 105,
     "metadata": {},
     "output_type": "execute_result"
    }
   ],
   "source": [
    "len(df.link)"
   ]
  },
  {
   "cell_type": "code",
   "execution_count": 106,
   "metadata": {
    "ExecuteTime": {
     "end_time": "2019-04-05T23:20:29.998733Z",
     "start_time": "2019-04-05T23:20:29.994767Z"
    }
   },
   "outputs": [],
   "source": [
    "df['desc'] = desc"
   ]
  },
  {
   "cell_type": "code",
   "execution_count": 108,
   "metadata": {
    "ExecuteTime": {
     "end_time": "2019-04-05T23:20:35.220057Z",
     "start_time": "2019-04-05T23:20:35.200285Z"
    }
   },
   "outputs": [
    {
     "data": {
      "text/html": [
       "<div>\n",
       "<style scoped>\n",
       "    .dataframe tbody tr th:only-of-type {\n",
       "        vertical-align: middle;\n",
       "    }\n",
       "\n",
       "    .dataframe tbody tr th {\n",
       "        vertical-align: top;\n",
       "    }\n",
       "\n",
       "    .dataframe thead th {\n",
       "        text-align: right;\n",
       "    }\n",
       "</style>\n",
       "<table border=\"1\" class=\"dataframe\">\n",
       "  <thead>\n",
       "    <tr style=\"text-align: right;\">\n",
       "      <th></th>\n",
       "      <th>link</th>\n",
       "      <th>product_name</th>\n",
       "      <th>price</th>\n",
       "      <th>image_link</th>\n",
       "      <th>brand</th>\n",
       "      <th>desc</th>\n",
       "    </tr>\n",
       "  </thead>\n",
       "  <tbody>\n",
       "    <tr>\n",
       "      <th>0</th>\n",
       "      <td>http://us.topshop.com/en/tsus/product/clothing...</td>\n",
       "      <td>Check Peg Trousers</td>\n",
       "      <td>$68.00</td>\n",
       "      <td>https://images.topshop.com/i/TopShop/TS16R06QC...</td>\n",
       "      <td>TopShop</td>\n",
       "      <td>Tap into the patterned look with these all ove...</td>\n",
       "    </tr>\n",
       "    <tr>\n",
       "      <th>1</th>\n",
       "      <td>http://us.topshop.com/en/tsus/product/clothing...</td>\n",
       "      <td>Scarf Hanky Top</td>\n",
       "      <td>$48.00</td>\n",
       "      <td>https://images.topshop.com/i/TopShop/TS13R14QR...</td>\n",
       "      <td>TopShop</td>\n",
       "      <td>This scarf printed hanky top in red embraces u...</td>\n",
       "    </tr>\n",
       "    <tr>\n",
       "      <th>2</th>\n",
       "      <td>http://us.topshop.com/en/tsus/product/clothing...</td>\n",
       "      <td>Clip Buckle Pinafore</td>\n",
       "      <td>$68.00</td>\n",
       "      <td>https://images.topshop.com/i/TopShop/TS05P81PW...</td>\n",
       "      <td>TopShop</td>\n",
       "      <td>This clip buckle denim pinafore is a modern mu...</td>\n",
       "    </tr>\n",
       "    <tr>\n",
       "      <th>3</th>\n",
       "      <td>http://us.topshop.com/en/tsus/product/clothing...</td>\n",
       "      <td>Mid Blue Laddered Hem Straight Jeans</td>\n",
       "      <td>$80.00</td>\n",
       "      <td>https://images.topshop.com/i/TopShop/TS02G25QM...</td>\n",
       "      <td>TopShop</td>\n",
       "      <td>These high rise, straight leg jeans in authent...</td>\n",
       "    </tr>\n",
       "    <tr>\n",
       "      <th>4</th>\n",
       "      <td>http://us.topshop.com/en/tsus/product/clothing...</td>\n",
       "      <td>Giraffe Cami</td>\n",
       "      <td>$35.00</td>\n",
       "      <td>https://images.topshop.com/i/TopShop/TS13A22QY...</td>\n",
       "      <td>TopShop</td>\n",
       "      <td>This all over giraffe camisole top does animal...</td>\n",
       "    </tr>\n",
       "  </tbody>\n",
       "</table>\n",
       "</div>"
      ],
      "text/plain": [
       "                                                link  \\\n",
       "0  http://us.topshop.com/en/tsus/product/clothing...   \n",
       "1  http://us.topshop.com/en/tsus/product/clothing...   \n",
       "2  http://us.topshop.com/en/tsus/product/clothing...   \n",
       "3  http://us.topshop.com/en/tsus/product/clothing...   \n",
       "4  http://us.topshop.com/en/tsus/product/clothing...   \n",
       "\n",
       "                           product_name   price  \\\n",
       "0                    Check Peg Trousers  $68.00   \n",
       "1                       Scarf Hanky Top  $48.00   \n",
       "2                  Clip Buckle Pinafore  $68.00   \n",
       "3  Mid Blue Laddered Hem Straight Jeans  $80.00   \n",
       "4                          Giraffe Cami  $35.00   \n",
       "\n",
       "                                          image_link    brand  \\\n",
       "0  https://images.topshop.com/i/TopShop/TS16R06QC...  TopShop   \n",
       "1  https://images.topshop.com/i/TopShop/TS13R14QR...  TopShop   \n",
       "2  https://images.topshop.com/i/TopShop/TS05P81PW...  TopShop   \n",
       "3  https://images.topshop.com/i/TopShop/TS02G25QM...  TopShop   \n",
       "4  https://images.topshop.com/i/TopShop/TS13A22QY...  TopShop   \n",
       "\n",
       "                                                desc  \n",
       "0  Tap into the patterned look with these all ove...  \n",
       "1  This scarf printed hanky top in red embraces u...  \n",
       "2  This clip buckle denim pinafore is a modern mu...  \n",
       "3  These high rise, straight leg jeans in authent...  \n",
       "4  This all over giraffe camisole top does animal...  "
      ]
     },
     "execution_count": 108,
     "metadata": {},
     "output_type": "execute_result"
    }
   ],
   "source": [
    "df.head()"
   ]
  },
  {
   "cell_type": "code",
   "execution_count": 109,
   "metadata": {
    "ExecuteTime": {
     "end_time": "2019-04-05T23:20:59.153601Z",
     "start_time": "2019-04-05T23:20:59.103194Z"
    }
   },
   "outputs": [],
   "source": [
    "df.to_csv('topshopwithdesc.csv', index=False)"
   ]
  },
  {
   "cell_type": "code",
   "execution_count": 124,
   "metadata": {
    "ExecuteTime": {
     "end_time": "2019-04-05T23:26:51.178518Z",
     "start_time": "2019-04-05T23:26:51.168709Z"
    }
   },
   "outputs": [
    {
     "data": {
      "text/plain": [
       "'48.00'"
      ]
     },
     "execution_count": 124,
     "metadata": {},
     "output_type": "execute_result"
    }
   ],
   "source": [
    "'$48.00'.split('$')[1]"
   ]
  },
  {
   "cell_type": "code",
   "execution_count": 125,
   "metadata": {
    "ExecuteTime": {
     "end_time": "2019-04-05T23:28:16.691086Z",
     "start_time": "2019-04-05T23:28:16.674816Z"
    }
   },
   "outputs": [],
   "source": [
    "df['price_new'] = df['price'].apply(lambda x: x.split('$')[1])"
   ]
  },
  {
   "cell_type": "code",
   "execution_count": 128,
   "metadata": {
    "ExecuteTime": {
     "end_time": "2019-04-05T23:28:43.458186Z",
     "start_time": "2019-04-05T23:28:43.447070Z"
    }
   },
   "outputs": [],
   "source": [
    "df.price=df.price_new"
   ]
  },
  {
   "cell_type": "code",
   "execution_count": 130,
   "metadata": {
    "ExecuteTime": {
     "end_time": "2019-04-05T23:29:03.724881Z",
     "start_time": "2019-04-05T23:29:03.705328Z"
    }
   },
   "outputs": [],
   "source": [
    "df.drop('price_new', axis=1, inplace=True)"
   ]
  },
  {
   "cell_type": "code",
   "execution_count": 132,
   "metadata": {
    "ExecuteTime": {
     "end_time": "2019-04-05T23:29:31.040391Z",
     "start_time": "2019-04-05T23:29:30.990995Z"
    }
   },
   "outputs": [],
   "source": [
    "df.to_csv('topshopwithdesc.csv', index=False)"
   ]
  },
  {
   "cell_type": "code",
   "execution_count": null,
   "metadata": {},
   "outputs": [],
   "source": []
  }
 ],
 "metadata": {
  "kernelspec": {
   "display_name": "Python 3",
   "language": "python",
   "name": "python3"
  },
  "language_info": {
   "codemirror_mode": {
    "name": "ipython",
    "version": 3
   },
   "file_extension": ".py",
   "mimetype": "text/x-python",
   "name": "python",
   "nbconvert_exporter": "python",
   "pygments_lexer": "ipython3",
   "version": "3.6.5"
  }
 },
 "nbformat": 4,
 "nbformat_minor": 2
}
